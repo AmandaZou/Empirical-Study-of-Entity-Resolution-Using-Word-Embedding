{
 "cells": [
  {
   "cell_type": "code",
   "execution_count": 21,
   "metadata": {},
   "outputs": [],
   "source": [
    "import csv\n",
    "import re\n",
    "import numpy as np\n",
    "import pandas as pd \n",
    "import math\n",
    "from random import randint\n",
    "import fasttext\n",
    "from sklearn import metrics\n",
    "from sklearn.feature_extraction.text import TfidfVectorizer\n",
    "from nltk.tokenize import word_tokenize"
   ]
  },
  {
   "cell_type": "markdown",
   "metadata": {},
   "source": [
    "## Functions Definitions\n",
    "#### Preprocesing Functions"
   ]
  },
  {
   "cell_type": "code",
   "execution_count": 2,
   "metadata": {},
   "outputs": [],
   "source": [
    "def read_file(filename):\n",
    "    # Read in CSV File into DataFrame\n",
    "    list_var = []\n",
    "    data = pd.DataFrame()\n",
    "    with open(filename,'r') as f:\n",
    "        reader = csv.reader(f, delimiter=',')\n",
    "        for i in reader:\n",
    "            list_var.append(i)\n",
    "    # Header & Data\n",
    "    col_name = list_var[0]\n",
    "    data_val = list_var[1:]\n",
    "    # Convert to DataFrame\n",
    "    data = pd.DataFrame(data_val, columns=col_name)\n",
    "    return data"
   ]
  },
  {
   "cell_type": "code",
   "execution_count": 238,
   "metadata": {},
   "outputs": [],
   "source": [
    "def tokenize(data,clean):\n",
    "    # Clean and Tokenize both Name and Description Field\n",
    "    temp_name = data['name'].copy()\n",
    "    temp_description = data['description'].copy()\n",
    "    df = data.copy()\n",
    "    # Raw\n",
    "    if clean=='Raw':\n",
    "        pass\n",
    "    # Semi-Cleaned \n",
    "    elif clean=='Nspace':\n",
    "        # Remove Symbols in Name and Description Column (no space)\n",
    "        temp_name = [re.sub(r'[^\\w\\s]','',x) for x in temp_name]\n",
    "        temp_description = [re.sub(r'[^\\w\\s]','',x) for x in temp_description]\n",
    "    elif clean=='Wspace':\n",
    "        # Remove Symbols in Name and Description Column (replace with space)\n",
    "        temp_name = [re.sub(r'[^\\w\\s]',' ',x) for x in temp_name]\n",
    "        temp_description = [re.sub(r'[^\\w\\s]',' ',x) for x in temp_description]\n",
    "    # Tokenize: Split single sentence into list of words\n",
    "    for i in range(0,len(temp_name),1):\n",
    "        # Tokenize Name and Description Columns into words\n",
    "        df['name'][i] = word_tokenize(temp_name[i])\n",
    "        df['description'][i] = word_tokenize(temp_description[i])\n",
    "        try:\n",
    "            df['name'][i].remove('')\n",
    "        except ValueError:\n",
    "            pass  # do nothing!\n",
    "        try:\n",
    "            df['description'][i].remove('')\n",
    "        except ValueError:\n",
    "            pass  # do nothing!\n",
    "    return df"
   ]
  },
  {
   "cell_type": "code",
   "execution_count": 4,
   "metadata": {},
   "outputs": [],
   "source": [
    "def vectorize(df):\n",
    "    # Vectorize the list of words and then average the vectors into one sentence vector\n",
    "    df_vectorize = df.copy()\n",
    "    counter = 0\n",
    "    for i in df['name']:\n",
    "        array = [model.get_word_vector(x) for x in i]\n",
    "        avg = np.average(array, axis=0)\n",
    "        df_vectorize['name'][counter] = avg\n",
    "        counter += 1\n",
    "    df_concat = pd.concat([df.id,df_vectorize.name],axis=1)\n",
    "    return df_concat"
   ]
  },
  {
   "cell_type": "code",
   "execution_count": 5,
   "metadata": {},
   "outputs": [],
   "source": [
    "def file_to_vector(file,clean):\n",
    "    # Read in Abt File\n",
    "    df = read_file(file)\n",
    "    if 'title' in df.columns:\n",
    "        df['name']=df['title'].copy()\n",
    "    # Clean & Tokenize\n",
    "    temp = tokenize(df,clean)\n",
    "    df.name = temp.name\n",
    "    # Vectorize name column\n",
    "    data = vectorize(df)\n",
    "    return data"
   ]
  },
  {
   "cell_type": "markdown",
   "metadata": {},
   "source": [
    "#### TF-IDF"
   ]
  },
  {
   "cell_type": "code",
   "execution_count": 6,
   "metadata": {},
   "outputs": [],
   "source": [
    "def create_corpus(df,df2,clean):\n",
    "    # Change Column names to 'name' instead of 'title'\n",
    "    if 'title' in df.columns:\n",
    "        df['name']=df['title'].copy()\n",
    "    if 'title' in df2.columns:\n",
    "        df2['name']=df2['title'].copy()  \n",
    "    # Combine name and description text\n",
    "    df['combine'] = df['name'] + ' ' + df['description']\n",
    "    df2['combine'] = df2['name'] + ' ' + df2['description']\n",
    "    # Create Corpus to train TFIDF\n",
    "    # With option for Raw vs Cleaned\n",
    "    corpus = []\n",
    "    for i in range(0,len(df['combine']),1):\n",
    "        temp = df['combine'][i]\n",
    "        if clean=='Raw':\n",
    "            pass\n",
    "        elif clean=='Nspace':\n",
    "            temp = re.sub(r'[^\\w\\s]','',temp)\n",
    "        elif clean=='Wspace':\n",
    "            temp = re.sub(r'[^\\w\\s]',' ',temp)\n",
    "        corpus.append(temp)\n",
    "    for i in range(0,len(df2['combine']),1):\n",
    "        temp = df2['combine'][i]\n",
    "        if clean=='Raw':\n",
    "            pass\n",
    "        elif clean=='Nspace':\n",
    "            temp = re.sub(r'[^\\w\\s]','',temp)\n",
    "        elif clean=='Wspace':\n",
    "            temp = re.sub(r'[^\\w\\s]',' ',temp)\n",
    "        corpus.append(temp)\n",
    "    return corpus"
   ]
  },
  {
   "cell_type": "code",
   "execution_count": 7,
   "metadata": {},
   "outputs": [],
   "source": [
    "def tf_idf_vect(file1,file2,clean):\n",
    "    # Read in Files\n",
    "    df = read_file(file1)\n",
    "    df2 = read_file(file2)\n",
    "    corpus = create_corpus(df,df2,clean)\n",
    "    # Fit TF-IDF Model\n",
    "    vectorizer = TfidfVectorizer(max_features=300)\n",
    "    tfidf_model = vectorizer.fit(corpus)\n",
    "    # Generate TF-IDF Vectors for each product\n",
    "    arr = []\n",
    "    for i in range(0,len(df),1):\n",
    "        text = df['name'][i]\n",
    "        arr.append(tfidf_model.transform([text]).toarray()[0])\n",
    "    df['name'] = arr\n",
    "    arr = []\n",
    "    for i in range(0,len(df2),1):\n",
    "        text = df2['name'][i]\n",
    "        arr.append(tfidf_model.transform([text]).toarray()[0])\n",
    "    df2['name'] = arr\n",
    "    \n",
    "    return df[['id','name']], df2[['id','name']]"
   ]
  },
  {
   "cell_type": "markdown",
   "metadata": {},
   "source": [
    "#### Random Indexing"
   ]
  },
  {
   "cell_type": "code",
   "execution_count": 157,
   "metadata": {},
   "outputs": [],
   "source": [
    "def random_index_vectors(file1,file2,clean,k):\n",
    "    # Read in Files\n",
    "    df = read_file(file1)\n",
    "    df2 = read_file(file2)\n",
    "    # Create Corpus\n",
    "    corpus = create_corpus(df,df2,clean)\n",
    "    # Get Vocabulary of the Corpus\n",
    "    vocab = []\n",
    "    for i in corpus:\n",
    "        words = word_tokenize(i)\n",
    "        for j in words:\n",
    "            vocab.append(j)\n",
    "    vocabulary = set(vocab)\n",
    "    # Create DF\n",
    "    df = pd.DataFrame()\n",
    "    # Insert Vocabulary Column\n",
    "    df['vocab'] = list(vocabulary)\n",
    "    # Insert Word Vector Column\n",
    "    arr = []\n",
    "    for i in df.vocab:\n",
    "        # Generate Random index vector of +1 or -1 using Gaussian Distribution \n",
    "        random_vec = np.array([1 if i>=0 else 0 for i in np.random.normal(size=(300))])\n",
    "        arr.append(random_vec)\n",
    "    # Initialize fixed and current vector to be vectors generated from above\n",
    "    df['fixed_vector'] = arr\n",
    "    df['current_vector'] = arr\n",
    "    # Window Size of k\n",
    "    k = k\n",
    "    for i in corpus:\n",
    "        # Tokenize Product Name + Description into words\n",
    "        words = word_tokenize(i)\n",
    "        # For every word in the line, update word vector\n",
    "        for j in range(0,len(words),1):\n",
    "            # Obtain the current word vector\n",
    "            current_index = df[df.vocab==words[j]].index[0]\n",
    "            current_vector = df.loc[current_index].current_vector\n",
    "            # Set up upper and lower bound\n",
    "            lowerbound = j-k\n",
    "            upperbound = j+k\n",
    "            for x in range(lowerbound,upperbound+1,1):\n",
    "                # if word within upper and lower bound and the index can be accessable and does not equal current index\n",
    "                if (x>=0) and (x<=(len(words)-1)):\n",
    "                    if x!=j:\n",
    "                        # Obtain fixed vectors of context word \n",
    "                        context_index = df[df.vocab==words[x]].index[0]\n",
    "                        context_vector = df.loc[context_index].fixed_vector\n",
    "                        # Update current word vector by addint fixed vectors of context word\n",
    "                        current_vector = current_vector + context_vector \n",
    "                else:\n",
    "                    # Out of Bounds\n",
    "                    pass    \n",
    "            # Update current word vector into the df\n",
    "            df.loc[current_index].current_vector = current_vector\n",
    "    return df"
   ]
  },
  {
   "cell_type": "code",
   "execution_count": 206,
   "metadata": {},
   "outputs": [],
   "source": [
    "def vectorize_indexing(df,df_vec):\n",
    "    # Vectorize the list of words and then average the vectors into one sentence vector\n",
    "    df_vectorize = df.copy()\n",
    "    counter = 0\n",
    "    for i in df['name']:\n",
    "        array = np.zeros(300)\n",
    "        avg_counter = 0\n",
    "        for x in i:\n",
    "            array += df_vec.current_vector[df_vec.vocab==x].values[0]\n",
    "            avg_counter += 1\n",
    "        avg = array/avg_counter\n",
    "        df_vectorize['name'][counter] = avg\n",
    "        counter += 1   \n",
    "    df_concat = pd.concat([df.id,df_vectorize.name],axis=1)\n",
    "    return df_concat"
   ]
  },
  {
   "cell_type": "code",
   "execution_count": 209,
   "metadata": {},
   "outputs": [],
   "source": [
    "def file_to_RI_vector(file,df_vec,clean):\n",
    "    # Read in File\n",
    "    df = read_file(file)\n",
    "    if 'title' in df.columns:\n",
    "        df['name']=df['title'].copy()\n",
    "    # Clean & Tokenize\n",
    "    temp = tokenize(df,clean)\n",
    "    df.name = temp.name\n",
    "    # Vectorize\n",
    "    data = vectorize_indexing(df,df_vec)\n",
    "    data.head()\n",
    "    return data"
   ]
  },
  {
   "cell_type": "markdown",
   "metadata": {},
   "source": [
    "#### Create Ranked List Functions"
   ]
  },
  {
   "cell_type": "code",
   "execution_count": 8,
   "metadata": {},
   "outputs": [],
   "source": [
    "def vector_length(a):\n",
    "    return float(math.sqrt(sum(x*x for x in a)))\n",
    "def dot_product(a,b):\n",
    "    if len(a) == len(b):\n",
    "        return sum([x*y for (x,y) in zip(a,b)])\n",
    "    else:\n",
    "        return \"Vector Length Different\"\n",
    "def cos_similarity(a,b):\n",
    "    return dot_product(a,b)/(vector_length(a)*vector_length(b))"
   ]
  },
  {
   "cell_type": "code",
   "execution_count": 9,
   "metadata": {},
   "outputs": [],
   "source": [
    "def top_10_ranking(df1,df2):\n",
    "    # Initialize Ranking Chart\n",
    "    col_names = ['df1_id','1','2','3','4','5','6','7','8','9','10']\n",
    "    df_ranking = pd.DataFrame(columns=col_names);\n",
    "    # Loop for every Abt_id element\n",
    "    for i in range(0,len(df1.name),1):\n",
    "        cos_sim = []\n",
    "        # Loop for computing buy_id ranking for current Abt_id\n",
    "        for j in range(0,len(df2.name),1):\n",
    "            # Compute Cosine Similarity for every buy_id element compared to current Abt_id\n",
    "            cos_sim.append(cos_similarity(df1.name[i],df2.name[j]))\n",
    "        # Sort list and pick top 10\n",
    "        temp_df = pd.DataFrame(cos_sim)\n",
    "        temp_sorted = temp_df.sort_values(by=0,ascending=False)\n",
    "        row_ranking = temp_sorted.index.values[0:10]\n",
    "        rank_buy_id = []\n",
    "        # Convert row # into buy_id\n",
    "        for k in row_ranking:\n",
    "            rank_buy_id.append(df2.id.iloc[k])\n",
    "        rank_buy_id.insert(0,df1.id[i])\n",
    "        # Concat into Abt Ranking Chart\n",
    "        combine_df = pd.DataFrame([rank_buy_id],columns=col_names)\n",
    "        df_ranking = pd.concat([df_ranking,combine_df],names=col_names,sort=False,ignore_index=True)\n",
    "    return df_ranking"
   ]
  },
  {
   "cell_type": "code",
   "execution_count": 10,
   "metadata": {},
   "outputs": [],
   "source": [
    "def true_ranking_loc(df_ranking,mapping,col1,col2):\n",
    "    # Find where ground truth is ranked \n",
    "    col_names = ['df1_id','Ranked_Location']\n",
    "    df_rank_loc = pd.DataFrame(columns=col_names)\n",
    "    # Loop for every element of Abt_id from df_ranking\n",
    "    for i in range(0,len(df_ranking.df1_id),1):\n",
    "        # Look for ground truth from True Mapping\n",
    "        look_up_id = df_ranking.df1_id[i]\n",
    "        # Check if product is in Perfect Mapping\n",
    "        if len(mapping[col2][mapping[col1]==look_up_id])!=0:\n",
    "            mapped_id = mapping[col2][mapping[col1]==look_up_id].values[0]\n",
    "            # Check if ground truth in ranking list and note its location\n",
    "            if mapped_id in list(df_ranking.iloc[i]):\n",
    "                ranking = list(df_ranking.iloc[i]).index(mapped_id)\n",
    "            else:\n",
    "                ranking = 0\n",
    "            # Concat into Abt Ranking Location df\n",
    "            temp_list = list([look_up_id,ranking])\n",
    "            temp_df2 = pd.DataFrame([temp_list],columns=col_names)\n",
    "            df_rank_loc = pd.concat([df_rank_loc,temp_df2],names=col_names,sort=False,ignore_index=True)\n",
    "    return df_rank_loc"
   ]
  },
  {
   "cell_type": "markdown",
   "metadata": {},
   "source": [
    "#### Scoring Metrics Functions"
   ]
  },
  {
   "cell_type": "code",
   "execution_count": 11,
   "metadata": {},
   "outputs": [],
   "source": [
    "def hits_at_n(df_rank_loc,n):\n",
    "    # Sum the correct ranks at ranks 1 to n divide by n number of ranks\n",
    "    HR_n_sum = 0\n",
    "    for i in range(0,len(df_rank_loc),1):\n",
    "        if df_rank_loc.Ranked_Location[i]!=0:\n",
    "            if df_rank_loc.Ranked_Location[i]<=n:\n",
    "                HR_n_sum += 1\n",
    "    Hits_Rate_at_n = HR_n_sum/len(df_rank_loc)\n",
    "    return Hits_Rate_at_n"
   ]
  },
  {
   "cell_type": "code",
   "execution_count": 12,
   "metadata": {},
   "outputs": [],
   "source": [
    "def mean_reciprocal_rank(df_rank_loc):\n",
    "    # Sum the Reciprocal Rank of Abt Ranking Location df and divide by total number element\n",
    "    MRR_sum = 0\n",
    "    for i in range(0,len(df_rank_loc),1):\n",
    "        if df_rank_loc.Ranked_Location[i]!=0:\n",
    "            MRR_sum += 1/df_rank_loc.Ranked_Location[i]\n",
    "    mean_reciprocal_rank = MRR_sum/len(df_rank_loc)\n",
    "    return mean_reciprocal_rank"
   ]
  },
  {
   "cell_type": "code",
   "execution_count": 13,
   "metadata": {},
   "outputs": [],
   "source": [
    "# Source: https://gist.github.com/bwhite/3726239\n",
    "def dcg_at_k(r, k):\n",
    "    r = np.asfarray(r)[:k]\n",
    "    if r.size:\n",
    "        return np.sum(np.subtract(np.power(2, r), 1) / np.log2(np.arange(2, r.size + 2)))\n",
    "    return 0.\n",
    "\n",
    "def ndcg_at_k(r, k):\n",
    "    idcg = dcg_at_k(sorted(r, reverse=True), k)\n",
    "    if not idcg:\n",
    "        return 0.\n",
    "    return dcg_at_k(r, k) / idcg\n",
    "\n",
    "def ndcg(df_rank_loc,k):\n",
    "    # Sum up all NDCG at each Queries and divided by total # of Queries\n",
    "    # Initalize Ranking Encoding\n",
    "    rank_encoding = {0:[0,0,0,0,0,0,0,0,0,0],\n",
    "                     1:[1,0,0,0,0,0,0,0,0,0],\n",
    "                     2:[0,1,0,0,0,0,0,0,0,0],\n",
    "                     3:[0,0,1,0,0,0,0,0,0,0],\n",
    "                     4:[0,0,0,1,0,0,0,0,0,0],\n",
    "                     5:[0,0,0,0,1,0,0,0,0,0],\n",
    "                     6:[0,0,0,0,0,1,0,0,0,0],\n",
    "                     7:[0,0,0,0,0,0,1,0,0,0],\n",
    "                     8:[0,0,0,0,0,0,0,1,0,0],\n",
    "                     9:[0,0,0,0,0,0,0,0,1,0],\n",
    "                     10:[0,0,0,0,0,0,0,0,0,1]}\n",
    "    sum_NDCG = 0\n",
    "    for i in df_rank_loc.Ranked_Location:\n",
    "        sum_NDCG += ndcg_at_k(rank_encoding[i], k)\n",
    "    NDCG = sum_NDCG/len(df_rank_loc)\n",
    "    return NDCG"
   ]
  },
  {
   "cell_type": "markdown",
   "metadata": {},
   "source": [
    "#### All in One Function"
   ]
  },
  {
   "cell_type": "code",
   "execution_count": 14,
   "metadata": {},
   "outputs": [],
   "source": [
    "def all_in_one(file1,file2,mapping,clean):\n",
    "    # Read File 1 & Vectorize\n",
    "    data1 = file_to_vector(file1,clean)\n",
    "    # Read File 2 & Vectorize\n",
    "    data2 = file_to_vector(file2,clean)\n",
    "    # Read Perfect Mapping\n",
    "    mapping = read_file(mapping)\n",
    "    # Create Ranking List\n",
    "    df_ranking = top_10_ranking(data1,data2)\n",
    "    # Find Location where True Ranking Occured \n",
    "    df_rank_loc = true_ranking_loc(df_ranking,mapping,mapping.columns[0],mapping.columns[1])\n",
    "    return df_rank_loc"
   ]
  },
  {
   "cell_type": "code",
   "execution_count": 15,
   "metadata": {},
   "outputs": [],
   "source": [
    "def all_in_one_tfidf(file1,file2,mapping,clean):\n",
    "    # Generate TF-IDF Vectors\n",
    "    data1, data2 = tf_idf_vect(file1,file2,clean)\n",
    "    # Read Perfect Mapping\n",
    "    mapping = read_file(mapping)\n",
    "    # Create Ranking List\n",
    "    df_ranking = top_10_ranking(data1,data2)\n",
    "    # Find Location where True Ranking Occured \n",
    "    df_rank_loc = true_ranking_loc(df_ranking,mapping,mapping.columns[0],mapping.columns[1])\n",
    "    return df_rank_loc"
   ]
  },
  {
   "cell_type": "code",
   "execution_count": 212,
   "metadata": {},
   "outputs": [],
   "source": [
    "def all_in_one_random_index(file1,file2,mapping,clean,k):\n",
    "    # Generate Random Indexing vectors\n",
    "    df_vec = random_index_vectors(file1,file2,clean,k)\n",
    "    # Vectorize File 1\n",
    "    data1 = file_to_RI_vector(file1,df_vec,clean)\n",
    "    # Vectorize File 2\n",
    "    data2 = file_to_RI_vector(file2,df_vec,clean)\n",
    "    # Read Perfect Mapping\n",
    "    mapping = read_file(mapping)\n",
    "    # Create Ranking List\n",
    "    df_ranking = top_10_ranking(data1,data2)\n",
    "    # Find Location where True Ranking Occured \n",
    "    df_rank_loc = true_ranking_loc(df_ranking,mapping,mapping.columns[0],mapping.columns[1])\n",
    "    return df_rank_loc"
   ]
  },
  {
   "cell_type": "markdown",
   "metadata": {},
   "source": [
    "## Code"
   ]
  },
  {
   "cell_type": "markdown",
   "metadata": {},
   "source": [
    "### Abt vs Buy (Raw)"
   ]
  },
  {
   "cell_type": "code",
   "execution_count": 213,
   "metadata": {},
   "outputs": [
    {
     "name": "stdout",
     "output_type": "stream",
     "text": [
      "Raw\n",
      "Hit Rate at 10:  0.23496762257169287\n",
      "Mean Reciprocal Rank:  0.14526709542898256\n",
      "NDCG at 10 Score:  0.16680724615219517\n"
     ]
    }
   ],
   "source": [
    "df_rank_loc = all_in_one_random_index('Abt.csv','Buy.csv','abt_buy_perfectMapping.csv','Raw',1)\n",
    "print(\"Raw\")\n",
    "print(\"Hit Rate at 10: \", hits_at_n(df_rank_loc,10))\n",
    "print(\"Mean Reciprocal Rank: \", mean_reciprocal_rank(df_rank_loc))\n",
    "print('NDCG at 10 Score: ', ndcg(df_rank_loc,10))"
   ]
  },
  {
   "cell_type": "code",
   "execution_count": 214,
   "metadata": {},
   "outputs": [
    {
     "name": "stdout",
     "output_type": "stream",
     "text": [
      "Raw\n",
      "Hit Rate at 10:  0.24421831637372804\n",
      "Mean Reciprocal Rank:  0.1493979707208199\n",
      "NDCG at 10 Score:  0.1721242666985971\n"
     ]
    }
   ],
   "source": [
    "df_rank_loc = all_in_one_random_index('Abt.csv','Buy.csv','abt_buy_perfectMapping.csv','Raw',2)\n",
    "print(\"Raw\")\n",
    "print(\"Hit Rate at 10: \", hits_at_n(df_rank_loc,10))\n",
    "print(\"Mean Reciprocal Rank: \", mean_reciprocal_rank(df_rank_loc))\n",
    "print('NDCG at 10 Score: ', ndcg(df_rank_loc,10))"
   ]
  },
  {
   "cell_type": "code",
   "execution_count": 215,
   "metadata": {},
   "outputs": [
    {
     "name": "stdout",
     "output_type": "stream",
     "text": [
      "Raw\n",
      "Hit Rate at 10:  0.25716928769657726\n",
      "Mean Reciprocal Rank:  0.15571340469582834\n",
      "NDCG at 10 Score:  0.1798372369475266\n"
     ]
    }
   ],
   "source": [
    "df_rank_loc = all_in_one_random_index('Abt.csv','Buy.csv','abt_buy_perfectMapping.csv','Raw',3)\n",
    "print(\"Raw\")\n",
    "print(\"Hit Rate at 10: \", hits_at_n(df_rank_loc,10))\n",
    "print(\"Mean Reciprocal Rank: \", mean_reciprocal_rank(df_rank_loc))\n",
    "print('NDCG at 10 Score: ', ndcg(df_rank_loc,10))"
   ]
  },
  {
   "cell_type": "code",
   "execution_count": 216,
   "metadata": {},
   "outputs": [
    {
     "name": "stdout",
     "output_type": "stream",
     "text": [
      "Raw\n",
      "Hit Rate at 10:  0.26919518963922295\n",
      "Mean Reciprocal Rank:  0.15583674727985553\n",
      "NDCG at 10 Score:  0.18273682808834393\n"
     ]
    }
   ],
   "source": [
    "df_rank_loc = all_in_one_random_index('Abt.csv','Buy.csv','abt_buy_perfectMapping.csv','Raw',4)\n",
    "print(\"Raw\")\n",
    "print(\"Hit Rate at 10: \", hits_at_n(df_rank_loc,10))\n",
    "print(\"Mean Reciprocal Rank: \", mean_reciprocal_rank(df_rank_loc))\n",
    "print('NDCG at 10 Score: ', ndcg(df_rank_loc,10))"
   ]
  },
  {
   "cell_type": "code",
   "execution_count": 218,
   "metadata": {},
   "outputs": [
    {
     "name": "stdout",
     "output_type": "stream",
     "text": [
      "Raw\n",
      "Hit Rate at 10:  0.2664199814986124\n",
      "Mean Reciprocal Rank:  0.1595458349852429\n",
      "NDCG at 10 Score:  0.18469696878408343\n"
     ]
    }
   ],
   "source": [
    "df_rank_loc = all_in_one_random_index('Abt.csv','Buy.csv','abt_buy_perfectMapping.csv','Raw',5)\n",
    "print(\"Raw\")\n",
    "print(\"Hit Rate at 10: \", hits_at_n(df_rank_loc,10))\n",
    "print(\"Mean Reciprocal Rank: \", mean_reciprocal_rank(df_rank_loc))\n",
    "print('NDCG at 10 Score: ', ndcg(df_rank_loc,10))"
   ]
  },
  {
   "cell_type": "code",
   "execution_count": 219,
   "metadata": {},
   "outputs": [
    {
     "name": "stdout",
     "output_type": "stream",
     "text": [
      "Raw\n",
      "Hit Rate at 10:  0.2627197039777983\n",
      "Mean Reciprocal Rank:  0.1575055430744607\n",
      "NDCG at 10 Score:  0.18249660283447106\n"
     ]
    }
   ],
   "source": [
    "df_rank_loc = all_in_one_random_index('Abt.csv','Buy.csv','abt_buy_perfectMapping.csv','Raw',6)\n",
    "print(\"Raw\")\n",
    "print(\"Hit Rate at 10: \", hits_at_n(df_rank_loc,10))\n",
    "print(\"Mean Reciprocal Rank: \", mean_reciprocal_rank(df_rank_loc))\n",
    "print('NDCG at 10 Score: ', ndcg(df_rank_loc,10))"
   ]
  },
  {
   "cell_type": "markdown",
   "metadata": {},
   "source": [
    "### Abt vs Buy (Cleaned No Space)"
   ]
  },
  {
   "cell_type": "code",
   "execution_count": 220,
   "metadata": {},
   "outputs": [
    {
     "name": "stdout",
     "output_type": "stream",
     "text": [
      "No Space\n",
      "Hit Rate at 10:  0.35892691951896394\n",
      "Mean Reciprocal Rank:  0.23572456426295457\n",
      "NDCG at 10 Score:  0.2654305972497467\n"
     ]
    }
   ],
   "source": [
    "df_rank_loc = all_in_one_random_index('Abt.csv','Buy.csv','abt_buy_perfectMapping.csv','Nspace',1)\n",
    "print(\"No Space\")\n",
    "print(\"Hit Rate at 10: \", hits_at_n(df_rank_loc,10))\n",
    "print(\"Mean Reciprocal Rank: \", mean_reciprocal_rank(df_rank_loc))\n",
    "print('NDCG at 10 Score: ', ndcg(df_rank_loc,10))"
   ]
  },
  {
   "cell_type": "code",
   "execution_count": 221,
   "metadata": {},
   "outputs": [
    {
     "name": "stdout",
     "output_type": "stream",
     "text": [
      "No Space\n",
      "Hit Rate at 10:  0.3894542090656799\n",
      "Mean Reciprocal Rank:  0.25466866364183655\n",
      "NDCG at 10 Score:  0.2867944880387043\n"
     ]
    }
   ],
   "source": [
    "df_rank_loc = all_in_one_random_index('Abt.csv','Buy.csv','abt_buy_perfectMapping.csv','Nspace',2)\n",
    "print(\"No Space\")\n",
    "print(\"Hit Rate at 10: \", hits_at_n(df_rank_loc,10))\n",
    "print(\"Mean Reciprocal Rank: \", mean_reciprocal_rank(df_rank_loc))\n",
    "print('NDCG at 10 Score: ', ndcg(df_rank_loc,10))"
   ]
  },
  {
   "cell_type": "code",
   "execution_count": 222,
   "metadata": {},
   "outputs": [
    {
     "name": "stdout",
     "output_type": "stream",
     "text": [
      "No Space\n",
      "Hit Rate at 10:  0.41350601295097134\n",
      "Mean Reciprocal Rank:  0.2660044344595684\n",
      "NDCG at 10 Score:  0.3009518220123374\n"
     ]
    }
   ],
   "source": [
    "df_rank_loc = all_in_one_random_index('Abt.csv','Buy.csv','abt_buy_perfectMapping.csv','Nspace',3)\n",
    "print(\"No Space\")\n",
    "print(\"Hit Rate at 10: \", hits_at_n(df_rank_loc,10))\n",
    "print(\"Mean Reciprocal Rank: \", mean_reciprocal_rank(df_rank_loc))\n",
    "print('NDCG at 10 Score: ', ndcg(df_rank_loc,10))"
   ]
  },
  {
   "cell_type": "code",
   "execution_count": 223,
   "metadata": {},
   "outputs": [
    {
     "name": "stdout",
     "output_type": "stream",
     "text": [
      "No Space\n",
      "Hit Rate at 10:  0.4181313598519889\n",
      "Mean Reciprocal Rank:  0.264700894233734\n",
      "NDCG at 10 Score:  0.3009406348351362\n"
     ]
    }
   ],
   "source": [
    "df_rank_loc = all_in_one_random_index('Abt.csv','Buy.csv','abt_buy_perfectMapping.csv','Nspace',4)\n",
    "print(\"No Space\")\n",
    "print(\"Hit Rate at 10: \", hits_at_n(df_rank_loc,10))\n",
    "print(\"Mean Reciprocal Rank: \", mean_reciprocal_rank(df_rank_loc))\n",
    "print('NDCG at 10 Score: ', ndcg(df_rank_loc,10))"
   ]
  },
  {
   "cell_type": "code",
   "execution_count": 224,
   "metadata": {},
   "outputs": [
    {
     "name": "stdout",
     "output_type": "stream",
     "text": [
      "No Space\n",
      "Hit Rate at 10:  0.42368177613321\n",
      "Mean Reciprocal Rank:  0.2620317753990277\n",
      "NDCG at 10 Score:  0.30017060591746364\n"
     ]
    }
   ],
   "source": [
    "df_rank_loc = all_in_one_random_index('Abt.csv','Buy.csv','abt_buy_perfectMapping.csv','Nspace',5)\n",
    "print(\"No Space\")\n",
    "print(\"Hit Rate at 10: \", hits_at_n(df_rank_loc,10))\n",
    "print(\"Mean Reciprocal Rank: \", mean_reciprocal_rank(df_rank_loc))\n",
    "print('NDCG at 10 Score: ', ndcg(df_rank_loc,10))"
   ]
  },
  {
   "cell_type": "code",
   "execution_count": 225,
   "metadata": {},
   "outputs": [
    {
     "name": "stdout",
     "output_type": "stream",
     "text": [
      "No Space\n",
      "Hit Rate at 10:  0.42645698427382056\n",
      "Mean Reciprocal Rank:  0.2733616727603774\n",
      "NDCG at 10 Score:  0.3095154555482274\n"
     ]
    }
   ],
   "source": [
    "df_rank_loc = all_in_one_random_index('Abt.csv','Buy.csv','abt_buy_perfectMapping.csv','Nspace',6)\n",
    "print(\"No Space\")\n",
    "print(\"Hit Rate at 10: \", hits_at_n(df_rank_loc,10))\n",
    "print(\"Mean Reciprocal Rank: \", mean_reciprocal_rank(df_rank_loc))\n",
    "print('NDCG at 10 Score: ', ndcg(df_rank_loc,10))"
   ]
  },
  {
   "cell_type": "markdown",
   "metadata": {},
   "source": [
    "### Abt vs Buy (Cleaned With Space)"
   ]
  },
  {
   "cell_type": "code",
   "execution_count": 239,
   "metadata": {},
   "outputs": [
    {
     "name": "stdout",
     "output_type": "stream",
     "text": [
      "With Space\n",
      "Hit Rate at 10:  0.3404255319148936\n",
      "Mean Reciprocal Rank:  0.21237830932558024\n",
      "NDCG at 10 Score:  0.2428549380079372\n"
     ]
    }
   ],
   "source": [
    "df_rank_loc = all_in_one_random_index('Abt.csv','Buy.csv','abt_buy_perfectMapping.csv','Wspace',1)\n",
    "print(\"With Space\")\n",
    "print(\"Hit Rate at 10: \", hits_at_n(df_rank_loc,10))\n",
    "print(\"Mean Reciprocal Rank: \", mean_reciprocal_rank(df_rank_loc))\n",
    "print('NDCG at 10 Score: ', ndcg(df_rank_loc,10))"
   ]
  },
  {
   "cell_type": "code",
   "execution_count": 240,
   "metadata": {},
   "outputs": [
    {
     "name": "stdout",
     "output_type": "stream",
     "text": [
      "With Space\n",
      "Hit Rate at 10:  0.37187789084181316\n",
      "Mean Reciprocal Rank:  0.22607667797307\n",
      "NDCG at 10 Score:  0.2604755413244143\n"
     ]
    }
   ],
   "source": [
    "df_rank_loc = all_in_one_random_index('Abt.csv','Buy.csv','abt_buy_perfectMapping.csv','Wspace',2)\n",
    "print(\"With Space\")\n",
    "print(\"Hit Rate at 10: \", hits_at_n(df_rank_loc,10))\n",
    "print(\"Mean Reciprocal Rank: \", mean_reciprocal_rank(df_rank_loc))\n",
    "print('NDCG at 10 Score: ', ndcg(df_rank_loc,10))"
   ]
  },
  {
   "cell_type": "code",
   "execution_count": 241,
   "metadata": {},
   "outputs": [
    {
     "name": "stdout",
     "output_type": "stream",
     "text": [
      "With Space\n",
      "Hit Rate at 10:  0.3829787234042553\n",
      "Mean Reciprocal Rank:  0.23812607374124467\n",
      "NDCG at 10 Score:  0.27247599958388125\n"
     ]
    }
   ],
   "source": [
    "df_rank_loc = all_in_one_random_index('Abt.csv','Buy.csv','abt_buy_perfectMapping.csv','Wspace',3)\n",
    "print(\"With Space\")\n",
    "print(\"Hit Rate at 10: \", hits_at_n(df_rank_loc,10))\n",
    "print(\"Mean Reciprocal Rank: \", mean_reciprocal_rank(df_rank_loc))\n",
    "print('NDCG at 10 Score: ', ndcg(df_rank_loc,10))"
   ]
  },
  {
   "cell_type": "code",
   "execution_count": 242,
   "metadata": {},
   "outputs": [
    {
     "name": "stdout",
     "output_type": "stream",
     "text": [
      "With Space\n",
      "Hit Rate at 10:  0.393154486586494\n",
      "Mean Reciprocal Rank:  0.24015498583028635\n",
      "NDCG at 10 Score:  0.2764464145223661\n"
     ]
    }
   ],
   "source": [
    "df_rank_loc = all_in_one_random_index('Abt.csv','Buy.csv','abt_buy_perfectMapping.csv','Wspace',4)\n",
    "print(\"With Space\")\n",
    "print(\"Hit Rate at 10: \", hits_at_n(df_rank_loc,10))\n",
    "print(\"Mean Reciprocal Rank: \", mean_reciprocal_rank(df_rank_loc))\n",
    "print('NDCG at 10 Score: ', ndcg(df_rank_loc,10))"
   ]
  },
  {
   "cell_type": "code",
   "execution_count": 243,
   "metadata": {},
   "outputs": [
    {
     "name": "stdout",
     "output_type": "stream",
     "text": [
      "With Space\n",
      "Hit Rate at 10:  0.4061054579093432\n",
      "Mean Reciprocal Rank:  0.24461881268079222\n",
      "NDCG at 10 Score:  0.28281528715000054\n"
     ]
    }
   ],
   "source": [
    "df_rank_loc = all_in_one_random_index('Abt.csv','Buy.csv','abt_buy_perfectMapping.csv','Wspace',5)\n",
    "print(\"With Space\")\n",
    "print(\"Hit Rate at 10: \", hits_at_n(df_rank_loc,10))\n",
    "print(\"Mean Reciprocal Rank: \", mean_reciprocal_rank(df_rank_loc))\n",
    "print('NDCG at 10 Score: ', ndcg(df_rank_loc,10))"
   ]
  },
  {
   "cell_type": "code",
   "execution_count": 244,
   "metadata": {},
   "outputs": [
    {
     "name": "stdout",
     "output_type": "stream",
     "text": [
      "With Space\n",
      "Hit Rate at 10:  0.4061054579093432\n",
      "Mean Reciprocal Rank:  0.2470669427191165\n",
      "NDCG at 10 Score:  0.28492975510973106\n"
     ]
    }
   ],
   "source": [
    "df_rank_loc = all_in_one_random_index('Abt.csv','Buy.csv','abt_buy_perfectMapping.csv','Wspace',6)\n",
    "print(\"With Space\")\n",
    "print(\"Hit Rate at 10: \", hits_at_n(df_rank_loc,10))\n",
    "print(\"Mean Reciprocal Rank: \", mean_reciprocal_rank(df_rank_loc))\n",
    "print('NDCG at 10 Score: ', ndcg(df_rank_loc,10))"
   ]
  },
  {
   "cell_type": "markdown",
   "metadata": {},
   "source": [
    "### Amazon vs Google (Raw)"
   ]
  },
  {
   "cell_type": "code",
   "execution_count": 227,
   "metadata": {},
   "outputs": [
    {
     "name": "stdout",
     "output_type": "stream",
     "text": [
      "Raw\n",
      "Hit Rate at 10:  0.252470799640611\n",
      "Mean Reciprocal Rank:  0.19182996049572865\n",
      "NDCG at 10 Score:  0.2064249228668872\n"
     ]
    }
   ],
   "source": [
    "df_rank_loc = all_in_one_random_index('Amazon.csv','GoogleProducts.csv','Amzon_GoogleProducts_perfectMapping.csv','Raw',1)\n",
    "print(\"Raw\")\n",
    "print(\"Hit Rate at 10: \", hits_at_n(df_rank_loc,10))\n",
    "print(\"Mean Reciprocal Rank: \", mean_reciprocal_rank(df_rank_loc))\n",
    "print('NDCG at 10 Score: ', ndcg(df_rank_loc,10))"
   ]
  },
  {
   "cell_type": "code",
   "execution_count": 228,
   "metadata": {},
   "outputs": [
    {
     "name": "stdout",
     "output_type": "stream",
     "text": [
      "Raw\n",
      "Hit Rate at 10:  0.2398921832884097\n",
      "Mean Reciprocal Rank:  0.1817385444743935\n",
      "NDCG at 10 Score:  0.19569326701589718\n"
     ]
    }
   ],
   "source": [
    "df_rank_loc = all_in_one_random_index('Amazon.csv','GoogleProducts.csv','Amzon_GoogleProducts_perfectMapping.csv','Raw',2)\n",
    "print(\"Raw\")\n",
    "print(\"Hit Rate at 10: \", hits_at_n(df_rank_loc,10))\n",
    "print(\"Mean Reciprocal Rank: \", mean_reciprocal_rank(df_rank_loc))\n",
    "print('NDCG at 10 Score: ', ndcg(df_rank_loc,10))"
   ]
  },
  {
   "cell_type": "code",
   "execution_count": 229,
   "metadata": {},
   "outputs": [
    {
     "name": "stdout",
     "output_type": "stream",
     "text": [
      "Raw\n",
      "Hit Rate at 10:  0.22911051212938005\n",
      "Mean Reciprocal Rank:  0.1798107502959255\n",
      "NDCG at 10 Score:  0.1916029866591657\n"
     ]
    }
   ],
   "source": [
    "df_rank_loc = all_in_one_random_index('Amazon.csv','GoogleProducts.csv','Amzon_GoogleProducts_perfectMapping.csv','Raw',3)\n",
    "print(\"Raw\")\n",
    "print(\"Hit Rate at 10: \", hits_at_n(df_rank_loc,10))\n",
    "print(\"Mean Reciprocal Rank: \", mean_reciprocal_rank(df_rank_loc))\n",
    "print('NDCG at 10 Score: ', ndcg(df_rank_loc,10))"
   ]
  },
  {
   "cell_type": "code",
   "execution_count": 230,
   "metadata": {},
   "outputs": [
    {
     "name": "stdout",
     "output_type": "stream",
     "text": [
      "Raw\n",
      "Hit Rate at 10:  0.23000898472596587\n",
      "Mean Reciprocal Rank:  0.181813060654031\n",
      "NDCG at 10 Score:  0.19340679226806248\n"
     ]
    }
   ],
   "source": [
    "df_rank_loc = all_in_one_random_index('Amazon.csv','GoogleProducts.csv','Amzon_GoogleProducts_perfectMapping.csv','Raw',4)\n",
    "print(\"Raw\")\n",
    "print(\"Hit Rate at 10: \", hits_at_n(df_rank_loc,10))\n",
    "print(\"Mean Reciprocal Rank: \", mean_reciprocal_rank(df_rank_loc))\n",
    "print('NDCG at 10 Score: ', ndcg(df_rank_loc,10))"
   ]
  },
  {
   "cell_type": "code",
   "execution_count": 231,
   "metadata": {},
   "outputs": [
    {
     "name": "stdout",
     "output_type": "stream",
     "text": [
      "Raw\n",
      "Hit Rate at 10:  0.23450134770889489\n",
      "Mean Reciprocal Rank:  0.18263951282819205\n",
      "NDCG at 10 Score:  0.194948965804312\n"
     ]
    }
   ],
   "source": [
    "df_rank_loc = all_in_one_random_index('Amazon.csv','GoogleProducts.csv','Amzon_GoogleProducts_perfectMapping.csv','Raw',5)\n",
    "print(\"Raw\")\n",
    "print(\"Hit Rate at 10: \", hits_at_n(df_rank_loc,10))\n",
    "print(\"Mean Reciprocal Rank: \", mean_reciprocal_rank(df_rank_loc))\n",
    "print('NDCG at 10 Score: ', ndcg(df_rank_loc,10))"
   ]
  },
  {
   "cell_type": "code",
   "execution_count": 232,
   "metadata": {},
   "outputs": [
    {
     "name": "stdout",
     "output_type": "stream",
     "text": [
      "Raw\n",
      "Hit Rate at 10:  0.23360287511230907\n",
      "Mean Reciprocal Rank:  0.1796645702306079\n",
      "NDCG at 10 Score:  0.1924750537854518\n"
     ]
    }
   ],
   "source": [
    "df_rank_loc = all_in_one_random_index('Amazon.csv','GoogleProducts.csv','Amzon_GoogleProducts_perfectMapping.csv','Raw',6)\n",
    "print(\"Raw\")\n",
    "print(\"Hit Rate at 10: \", hits_at_n(df_rank_loc,10))\n",
    "print(\"Mean Reciprocal Rank: \", mean_reciprocal_rank(df_rank_loc))\n",
    "print('NDCG at 10 Score: ', ndcg(df_rank_loc,10))"
   ]
  },
  {
   "cell_type": "markdown",
   "metadata": {},
   "source": [
    "### Amazon vs Google (Cleaned No Space)"
   ]
  },
  {
   "cell_type": "code",
   "execution_count": 233,
   "metadata": {},
   "outputs": [
    {
     "name": "stdout",
     "output_type": "stream",
     "text": [
      "No Space\n",
      "Hit Rate at 10:  0.344115004492363\n",
      "Mean Reciprocal Rank:  0.25352828762532265\n",
      "NDCG at 10 Score:  0.27514763940099246\n"
     ]
    }
   ],
   "source": [
    "df_rank_loc = all_in_one_random_index('Amazon.csv','GoogleProducts.csv','Amzon_GoogleProducts_perfectMapping.csv','Nspace',1)\n",
    "print(\"No Space\")\n",
    "print(\"Hit Rate at 10: \", hits_at_n(df_rank_loc,10))\n",
    "print(\"Mean Reciprocal Rank: \", mean_reciprocal_rank(df_rank_loc))\n",
    "print('NDCG at 10 Score: ', ndcg(df_rank_loc,10))"
   ]
  },
  {
   "cell_type": "code",
   "execution_count": 234,
   "metadata": {},
   "outputs": [
    {
     "name": "stdout",
     "output_type": "stream",
     "text": [
      "No Space\n",
      "Hit Rate at 10:  0.3477088948787062\n",
      "Mean Reciprocal Rank:  0.25950455653959686\n",
      "NDCG at 10 Score:  0.2804888186504555\n"
     ]
    }
   ],
   "source": [
    "df_rank_loc = all_in_one_random_index('Amazon.csv','GoogleProducts.csv','Amzon_GoogleProducts_perfectMapping.csv','Nspace',2)\n",
    "print(\"No Space\")\n",
    "print(\"Hit Rate at 10: \", hits_at_n(df_rank_loc,10))\n",
    "print(\"Mean Reciprocal Rank: \", mean_reciprocal_rank(df_rank_loc))\n",
    "print('NDCG at 10 Score: ', ndcg(df_rank_loc,10))"
   ]
  },
  {
   "cell_type": "code",
   "execution_count": 235,
   "metadata": {},
   "outputs": [
    {
     "name": "stdout",
     "output_type": "stream",
     "text": [
      "No Space\n",
      "Hit Rate at 10:  0.3557951482479784\n",
      "Mean Reciprocal Rank:  0.2661097562714813\n",
      "NDCG at 10 Score:  0.2873688464609486\n"
     ]
    }
   ],
   "source": [
    "df_rank_loc = all_in_one_random_index('Amazon.csv','GoogleProducts.csv','Amzon_GoogleProducts_perfectMapping.csv','Nspace',3)\n",
    "print(\"No Space\")\n",
    "print(\"Hit Rate at 10: \", hits_at_n(df_rank_loc,10))\n",
    "print(\"Mean Reciprocal Rank: \", mean_reciprocal_rank(df_rank_loc))\n",
    "print('NDCG at 10 Score: ', ndcg(df_rank_loc,10))"
   ]
  },
  {
   "cell_type": "code",
   "execution_count": 245,
   "metadata": {},
   "outputs": [
    {
     "name": "stdout",
     "output_type": "stream",
     "text": [
      "No Space\n",
      "Hit Rate at 10:  0.35759209344115006\n",
      "Mean Reciprocal Rank:  0.2693492491336156\n",
      "NDCG at 10 Score:  0.29030509940465593\n"
     ]
    }
   ],
   "source": [
    "df_rank_loc = all_in_one_random_index('Amazon.csv','GoogleProducts.csv','Amzon_GoogleProducts_perfectMapping.csv','Nspace',4)\n",
    "print(\"No Space\")\n",
    "print(\"Hit Rate at 10: \", hits_at_n(df_rank_loc,10))\n",
    "print(\"Mean Reciprocal Rank: \", mean_reciprocal_rank(df_rank_loc))\n",
    "print('NDCG at 10 Score: ', ndcg(df_rank_loc,10))"
   ]
  },
  {
   "cell_type": "code",
   "execution_count": 246,
   "metadata": {},
   "outputs": [
    {
     "name": "stdout",
     "output_type": "stream",
     "text": [
      "No Space\n",
      "Hit Rate at 10:  0.3692722371967655\n",
      "Mean Reciprocal Rank:  0.2707376032173874\n",
      "NDCG at 10 Score:  0.2942132839589285\n"
     ]
    }
   ],
   "source": [
    "df_rank_loc = all_in_one_random_index('Amazon.csv','GoogleProducts.csv','Amzon_GoogleProducts_perfectMapping.csv','Nspace',5)\n",
    "print(\"No Space\")\n",
    "print(\"Hit Rate at 10: \", hits_at_n(df_rank_loc,10))\n",
    "print(\"Mean Reciprocal Rank: \", mean_reciprocal_rank(df_rank_loc))\n",
    "print('NDCG at 10 Score: ', ndcg(df_rank_loc,10))"
   ]
  },
  {
   "cell_type": "code",
   "execution_count": 247,
   "metadata": {},
   "outputs": [
    {
     "name": "stdout",
     "output_type": "stream",
     "text": [
      "No Space\n",
      "Hit Rate at 10:  0.36298292902066487\n",
      "Mean Reciprocal Rank:  0.27511765712574326\n",
      "NDCG at 10 Score:  0.296033401720416\n"
     ]
    }
   ],
   "source": [
    "df_rank_loc = all_in_one_random_index('Amazon.csv','GoogleProducts.csv','Amzon_GoogleProducts_perfectMapping.csv','Nspace',6)\n",
    "print(\"No Space\")\n",
    "print(\"Hit Rate at 10: \", hits_at_n(df_rank_loc,10))\n",
    "print(\"Mean Reciprocal Rank: \", mean_reciprocal_rank(df_rank_loc))\n",
    "print('NDCG at 10 Score: ', ndcg(df_rank_loc,10))"
   ]
  },
  {
   "cell_type": "markdown",
   "metadata": {},
   "source": [
    "### Amazon vs Google (Cleaned With Space)"
   ]
  },
  {
   "cell_type": "code",
   "execution_count": 248,
   "metadata": {},
   "outputs": [
    {
     "name": "stdout",
     "output_type": "stream",
     "text": [
      "With Space\n",
      "Hit Rate at 10:  0.35938903863432164\n",
      "Mean Reciprocal Rank:  0.25614205850054894\n",
      "NDCG at 10 Score:  0.2805683729235091\n"
     ]
    }
   ],
   "source": [
    "df_rank_loc = all_in_one_random_index('Amazon.csv','GoogleProducts.csv','Amzon_GoogleProducts_perfectMapping.csv','Wspace',1)\n",
    "print(\"With Space\")\n",
    "print(\"Hit Rate at 10: \", hits_at_n(df_rank_loc,10))\n",
    "print(\"Mean Reciprocal Rank: \", mean_reciprocal_rank(df_rank_loc))\n",
    "print('NDCG at 10 Score: ', ndcg(df_rank_loc,10))"
   ]
  },
  {
   "cell_type": "code",
   "execution_count": 249,
   "metadata": {},
   "outputs": [
    {
     "name": "stdout",
     "output_type": "stream",
     "text": [
      "With Space\n",
      "Hit Rate at 10:  0.353099730458221\n",
      "Mean Reciprocal Rank:  0.2585415507922247\n",
      "NDCG at 10 Score:  0.28096257204629094\n"
     ]
    }
   ],
   "source": [
    "df_rank_loc = all_in_one_random_index('Amazon.csv','GoogleProducts.csv','Amzon_GoogleProducts_perfectMapping.csv','Wspace',2)\n",
    "print(\"With Space\")\n",
    "print(\"Hit Rate at 10: \", hits_at_n(df_rank_loc,10))\n",
    "print(\"Mean Reciprocal Rank: \", mean_reciprocal_rank(df_rank_loc))\n",
    "print('NDCG at 10 Score: ', ndcg(df_rank_loc,10))"
   ]
  },
  {
   "cell_type": "code",
   "execution_count": 250,
   "metadata": {},
   "outputs": [
    {
     "name": "stdout",
     "output_type": "stream",
     "text": [
      "With Space\n",
      "Hit Rate at 10:  0.3468104222821204\n",
      "Mean Reciprocal Rank:  0.25914801979492\n",
      "NDCG at 10 Score:  0.2798934541986852\n"
     ]
    }
   ],
   "source": [
    "df_rank_loc = all_in_one_random_index('Amazon.csv','GoogleProducts.csv','Amzon_GoogleProducts_perfectMapping.csv','Wspace',3)\n",
    "print(\"With Space\")\n",
    "print(\"Hit Rate at 10: \", hits_at_n(df_rank_loc,10))\n",
    "print(\"Mean Reciprocal Rank: \", mean_reciprocal_rank(df_rank_loc))\n",
    "print('NDCG at 10 Score: ', ndcg(df_rank_loc,10))"
   ]
  },
  {
   "cell_type": "code",
   "execution_count": 251,
   "metadata": {},
   "outputs": [
    {
     "name": "stdout",
     "output_type": "stream",
     "text": [
      "With Space\n",
      "Hit Rate at 10:  0.35130278526504943\n",
      "Mean Reciprocal Rank:  0.26354803976097774\n",
      "NDCG at 10 Score:  0.2842731068125859\n"
     ]
    }
   ],
   "source": [
    "df_rank_loc = all_in_one_random_index('Amazon.csv','GoogleProducts.csv','Amzon_GoogleProducts_perfectMapping.csv','Wspace',4)\n",
    "print(\"With Space\")\n",
    "print(\"Hit Rate at 10: \", hits_at_n(df_rank_loc,10))\n",
    "print(\"Mean Reciprocal Rank: \", mean_reciprocal_rank(df_rank_loc))\n",
    "print('NDCG at 10 Score: ', ndcg(df_rank_loc,10))"
   ]
  },
  {
   "cell_type": "code",
   "execution_count": 252,
   "metadata": {},
   "outputs": [
    {
     "name": "stdout",
     "output_type": "stream",
     "text": [
      "With Space\n",
      "Hit Rate at 10:  0.3477088948787062\n",
      "Mean Reciprocal Rank:  0.2639926410815898\n",
      "NDCG at 10 Score:  0.2839327859029024\n"
     ]
    }
   ],
   "source": [
    "df_rank_loc = all_in_one_random_index('Amazon.csv','GoogleProducts.csv','Amzon_GoogleProducts_perfectMapping.csv','Wspace',5)\n",
    "print(\"With Space\")\n",
    "print(\"Hit Rate at 10: \", hits_at_n(df_rank_loc,10))\n",
    "print(\"Mean Reciprocal Rank: \", mean_reciprocal_rank(df_rank_loc))\n",
    "print('NDCG at 10 Score: ', ndcg(df_rank_loc,10))"
   ]
  },
  {
   "cell_type": "code",
   "execution_count": 253,
   "metadata": {},
   "outputs": [
    {
     "name": "stdout",
     "output_type": "stream",
     "text": [
      "With Space\n",
      "Hit Rate at 10:  0.35669362084456424\n",
      "Mean Reciprocal Rank:  0.2659311313623982\n",
      "NDCG at 10 Score:  0.28745931850479994\n"
     ]
    }
   ],
   "source": [
    "df_rank_loc = all_in_one_random_index('Amazon.csv','GoogleProducts.csv','Amzon_GoogleProducts_perfectMapping.csv','Wspace',6)\n",
    "print(\"With Space\")\n",
    "print(\"Hit Rate at 10: \", hits_at_n(df_rank_loc,10))\n",
    "print(\"Mean Reciprocal Rank: \", mean_reciprocal_rank(df_rank_loc))\n",
    "print('NDCG at 10 Score: ', ndcg(df_rank_loc,10))"
   ]
  },
  {
   "cell_type": "markdown",
   "metadata": {},
   "source": [
    "### Conclusion\n",
    "#### Random Indexing"
   ]
  },
  {
   "cell_type": "markdown",
   "metadata": {},
   "source": [
    "|  Hits Rate at 10      | K = 1 | K = 2 | K = 3  | K = 4 | K = 5 | K = 6 |\n",
    "| ------------------------     | ---   | ---     |   --- | --- | --- | --- |\n",
    "| Abt_buy (Raw)                         | 0.235 |  0.244  | 0.257 | 0.269 | 0.266 | 0.263 |\n",
    "| Abt_buy (Cleaned No Space)            | 0.359 |  0.389  | 0.414 | 0.418 | 0.424 | 0.426 |\n",
    "| Abt_buy (Cleaned With Space)          | 0.340 |  0.372  | 0.383 | 0.393 | 0.406 | 0.406 |\n",
    "| Amazon_Google (Raw)                   | 0.252 |  0.240  | 0.229 | 0.230 | 0.235 | 0.234 |\n",
    "| Amazon_Google (Cleaned No Space)      | 0.344 |  0.348  | 0.356 | 0.358 | 0.369 | 0.363 |\n",
    "| Amazon_Google (Cleaned With Space)    | 0.359 |  0.353  | 0.347 | 0.351 | 0.348 | 0.357 |"
   ]
  },
  {
   "cell_type": "markdown",
   "metadata": {},
   "source": [
    "|  Mean Reciprocal Rank      | K = 1 | K = 2 | K = 3  | K = 4 | K = 5 | K = 6 |\n",
    "| ------------------------     | ---   | ---     |   --- | --- | --- | --- |\n",
    "| Abt_buy (Raw)                         | 0.145 |  0.149  | 0.156 | 0.156 | 0.160 | 0.158 |\n",
    "| Abt_buy (Cleaned No Space)            | 0.236 |  0.255  | 0.266 | 0.265 | 0.262 | 0.273 |\n",
    "| Abt_buy (Cleaned With Space)          | 0.212 |  0.226  | 0.238 | 0.240 | 0.245 | 0.247 |\n",
    "| Amazon_Google (Raw)                   | 0.192 |  0.182  | 0.180 | 0.182 | 0.183 | 0.180 |\n",
    "| Amazon_Google (Cleaned No Space)      | 0.254 |  0.260  | 0.266 | 0.269 | 0.271 | 0.275 |\n",
    "| Amazon_Google (Cleaned With Space)    | 0.256 |  0.259  | 0.259 | 0.264 | 0.264 | 0.266 |"
   ]
  },
  {
   "cell_type": "markdown",
   "metadata": {},
   "source": [
    "|  NDCG Score at 10      | K = 1 | K = 2 | K = 3  | K = 4 | K = 5 | K = 6 |\n",
    "| ------------------------     | ---   | ---     |   --- | --- | --- | --- |\n",
    "| Abt_buy (Raw)                         | 0.167 |  0.172  | 0.180 | 0.183 | 0.185 | 0.182 |\n",
    "| Abt_buy (Cleaned No Space)            | 0.265 |  0.287  | 0.301 | 0.301 | 0.300 | 0.310 |\n",
    "| Abt_buy (Cleaned With Space)          | 0.243 |  0.260  | 0.272 | 0.276 | 0.283 | 0.285 |\n",
    "| Amazon_Google (Raw)                   | 0.206 |  0.196  | 0.192 | 0.193 | 0.195 | 0.192 |\n",
    "| Amazon_Google (Cleaned No Space)      | 0.275 |  0.280  | 0.287 | 0.290 | 0.294 | 0.296 |\n",
    "| Amazon_Google (Cleaned With Space)    | 0.281 |  0.281  | 0.280 | 0.284 | 0.284 | 0.287 |"
   ]
  }
 ],
 "metadata": {
  "kernelspec": {
   "display_name": "Python 3",
   "language": "python",
   "name": "python3"
  },
  "language_info": {
   "codemirror_mode": {
    "name": "ipython",
    "version": 3
   },
   "file_extension": ".py",
   "mimetype": "text/x-python",
   "name": "python",
   "nbconvert_exporter": "python",
   "pygments_lexer": "ipython3",
   "version": "3.7.1"
  }
 },
 "nbformat": 4,
 "nbformat_minor": 2
}
