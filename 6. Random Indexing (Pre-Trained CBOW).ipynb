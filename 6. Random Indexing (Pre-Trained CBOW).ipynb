{
 "cells": [
  {
   "cell_type": "code",
   "execution_count": 1,
   "metadata": {},
   "outputs": [],
   "source": [
    "import csv\n",
    "import re\n",
    "import numpy as np\n",
    "import pandas as pd \n",
    "import math\n",
    "from random import randint\n",
    "import fasttext\n",
    "from sklearn import metrics\n",
    "from sklearn.feature_extraction.text import TfidfVectorizer\n",
    "from nltk.tokenize import word_tokenize"
   ]
  },
  {
   "cell_type": "markdown",
   "metadata": {},
   "source": [
    "### Pre-Trained CBOW"
   ]
  },
  {
   "cell_type": "code",
   "execution_count": 2,
   "metadata": {},
   "outputs": [
    {
     "name": "stderr",
     "output_type": "stream",
     "text": [
      "\n"
     ]
    }
   ],
   "source": [
    "# Load Facebook FastText Pre-trained Model\n",
    "model = fasttext.load_model('cc.en.300.bin')"
   ]
  },
  {
   "cell_type": "markdown",
   "metadata": {},
   "source": [
    "## Functions Definitions\n",
    "#### Preprocesing Functions"
   ]
  },
  {
   "cell_type": "code",
   "execution_count": 3,
   "metadata": {},
   "outputs": [],
   "source": [
    "def read_file(filename):\n",
    "    # Read in CSV File into DataFrame\n",
    "    list_var = []\n",
    "    data = pd.DataFrame()\n",
    "    with open(filename,'r') as f:\n",
    "        reader = csv.reader(f, delimiter=',')\n",
    "        for i in reader:\n",
    "            list_var.append(i)\n",
    "    # Header & Data\n",
    "    col_name = list_var[0]\n",
    "    data_val = list_var[1:]\n",
    "    # Convert to DataFrame\n",
    "    data = pd.DataFrame(data_val, columns=col_name)\n",
    "    return data"
   ]
  },
  {
   "cell_type": "code",
   "execution_count": 4,
   "metadata": {},
   "outputs": [],
   "source": [
    "def tokenize(data,clean):\n",
    "    # Clean and Tokenize both Name and Description Field\n",
    "    temp_name = data['name'].copy()\n",
    "    temp_description = data['description'].copy()\n",
    "    df = data.copy()\n",
    "    # Raw\n",
    "    if clean=='Raw':\n",
    "        pass\n",
    "    # Semi-Cleaned \n",
    "    elif clean=='Nspace':\n",
    "        # Remove Symbols in Name and Description Column (no space)\n",
    "        temp_name = [re.sub(r'[^\\w\\s]','',x) for x in temp_name]\n",
    "        temp_description = [re.sub(r'[^\\w\\s]','',x) for x in temp_description]\n",
    "    elif clean=='Wspace':\n",
    "        # Remove Symbols in Name and Description Column (replace with space)\n",
    "        temp_name = [re.sub(r'[^\\w\\s]',' ',x) for x in temp_name]\n",
    "        temp_description = [re.sub(r'[^\\w\\s]',' ',x) for x in temp_description]\n",
    "    # Tokenize: Split single sentence into list of words\n",
    "    for i in range(0,len(temp_name),1):\n",
    "        # Tokenize Name and Description Columns into words\n",
    "        df['name'][i] = word_tokenize(temp_name[i])\n",
    "        df['description'][i] = word_tokenize(temp_description[i])\n",
    "        try:\n",
    "            df['name'][i].remove('')\n",
    "        except ValueError:\n",
    "            pass  # do nothing!\n",
    "        try:\n",
    "            df['description'][i].remove('')\n",
    "        except ValueError:\n",
    "            pass  # do nothing!\n",
    "    return df"
   ]
  },
  {
   "cell_type": "code",
   "execution_count": 5,
   "metadata": {},
   "outputs": [],
   "source": [
    "def vectorize(df):\n",
    "    # Vectorize the list of words and then average the vectors into one sentence vector\n",
    "    df_vectorize = df.copy()\n",
    "    counter = 0\n",
    "    for i in df['name']:\n",
    "        array = [model.get_word_vector(x) for x in i]\n",
    "        avg = np.average(array, axis=0)\n",
    "        df_vectorize['name'][counter] = avg\n",
    "        counter += 1\n",
    "    df_concat = pd.concat([df.id,df_vectorize.name],axis=1)\n",
    "    return df_concat"
   ]
  },
  {
   "cell_type": "code",
   "execution_count": 6,
   "metadata": {},
   "outputs": [],
   "source": [
    "def file_to_vector(file,clean):\n",
    "    # Read in Abt File\n",
    "    df = read_file(file)\n",
    "    if 'title' in df.columns:\n",
    "        df['name']=df['title'].copy()\n",
    "    # Clean & Tokenize\n",
    "    temp = tokenize(df,clean)\n",
    "    df.name = temp.name\n",
    "    # Vectorize name column\n",
    "    data = vectorize(df)\n",
    "    return data"
   ]
  },
  {
   "cell_type": "markdown",
   "metadata": {},
   "source": [
    "#### TF-IDF"
   ]
  },
  {
   "cell_type": "code",
   "execution_count": 7,
   "metadata": {},
   "outputs": [],
   "source": [
    "def create_corpus(df,df2,clean):\n",
    "    # Change Column names to 'name' instead of 'title'\n",
    "    if 'title' in df.columns:\n",
    "        df['name']=df['title'].copy()\n",
    "    if 'title' in df2.columns:\n",
    "        df2['name']=df2['title'].copy()  \n",
    "    # Combine name and description text\n",
    "    df['combine'] = df['name'] + ' ' + df['description']\n",
    "    df2['combine'] = df2['name'] + ' ' + df2['description']\n",
    "    # Create Corpus to train TFIDF\n",
    "    # With option for Raw vs Cleaned\n",
    "    corpus = []\n",
    "    for i in range(0,len(df['combine']),1):\n",
    "        temp = df['combine'][i]\n",
    "        if clean=='Raw':\n",
    "            pass\n",
    "        elif clean=='Nspace':\n",
    "            temp = re.sub(r'[^\\w\\s]','',temp)\n",
    "        elif clean=='Wspace':\n",
    "            temp = re.sub(r'[^\\w\\s]',' ',temp)\n",
    "        corpus.append(temp)\n",
    "    for i in range(0,len(df2['combine']),1):\n",
    "        temp = df2['combine'][i]\n",
    "        if clean=='Raw':\n",
    "            pass\n",
    "        elif clean=='Nspace':\n",
    "            temp = re.sub(r'[^\\w\\s]','',temp)\n",
    "        elif clean=='Wspace':\n",
    "            temp = re.sub(r'[^\\w\\s]',' ',temp)\n",
    "        corpus.append(temp)\n",
    "    return corpus"
   ]
  },
  {
   "cell_type": "code",
   "execution_count": 8,
   "metadata": {},
   "outputs": [],
   "source": [
    "def tf_idf_vect(file1,file2,clean):\n",
    "    # Read in Files\n",
    "    df = read_file(file1)\n",
    "    df2 = read_file(file2)\n",
    "    corpus = create_corpus(df,df2,clean)\n",
    "    # Fit TF-IDF Model\n",
    "    vectorizer = TfidfVectorizer(max_features=300)\n",
    "    tfidf_model = vectorizer.fit(corpus)\n",
    "    # Generate TF-IDF Vectors for each product\n",
    "    arr = []\n",
    "    for i in range(0,len(df),1):\n",
    "        text = df['name'][i]\n",
    "        arr.append(tfidf_model.transform([text]).toarray()[0])\n",
    "    df['name'] = arr\n",
    "    arr = []\n",
    "    for i in range(0,len(df2),1):\n",
    "        text = df2['name'][i]\n",
    "        arr.append(tfidf_model.transform([text]).toarray()[0])\n",
    "    df2['name'] = arr\n",
    "    \n",
    "    return df[['id','name']], df2[['id','name']]"
   ]
  },
  {
   "cell_type": "markdown",
   "metadata": {},
   "source": [
    "#### Random Indexing"
   ]
  },
  {
   "cell_type": "code",
   "execution_count": 9,
   "metadata": {},
   "outputs": [],
   "source": [
    "def random_index_vectors(file1,file2,clean,k):\n",
    "    # Read in Files\n",
    "    df = read_file(file1)\n",
    "    df2 = read_file(file2)\n",
    "    # Create Corpus\n",
    "    corpus = create_corpus(df,df2,clean)\n",
    "    # Get Vocabulary of the Corpus\n",
    "    vocab = []\n",
    "    for i in corpus:\n",
    "        words = word_tokenize(i)\n",
    "        for j in words:\n",
    "            vocab.append(j)\n",
    "    vocabulary = set(vocab)\n",
    "    # Create DF\n",
    "    df = pd.DataFrame()\n",
    "    # Insert Vocabulary Column\n",
    "    df['vocab'] = list(vocabulary)\n",
    "    # Insert Word Vector Column\n",
    "    arr = []\n",
    "    for i in df.vocab:\n",
    "        # Generate Random index vector of +1 or 0 using Gaussian Distribution \n",
    "        random_vec = np.array([1 if i>=0 else 0 for i in np.random.normal(size=(300))])\n",
    "        arr.append(random_vec)\n",
    "    # Initialize fixed and current vector to be vectors generated from above\n",
    "    df['fixed_vector'] = arr\n",
    "    df['current_vector'] = arr\n",
    "    # Window Size of k\n",
    "    k = k\n",
    "    for i in corpus:\n",
    "        # Tokenize Product Name + Description into words\n",
    "        words = word_tokenize(i)\n",
    "        # For every word in the line, update word vector\n",
    "        for j in range(0,len(words),1):\n",
    "            # Obtain the current word vector\n",
    "            current_index = df[df.vocab==words[j]].index[0]\n",
    "            current_vector = df.loc[current_index].current_vector\n",
    "            # Set up upper and lower bound\n",
    "            lowerbound = j-k\n",
    "            upperbound = j+k\n",
    "            for x in range(lowerbound,upperbound+1,1):\n",
    "                # if word within upper and lower bound and the index can be accessable and does not equal current index\n",
    "                if (x>=0) and (x<=(len(words)-1)):\n",
    "                    if x!=j:\n",
    "                        # Obtain fixed vectors of context word \n",
    "                        context_index = df[df.vocab==words[x]].index[0]\n",
    "                        context_vector = df.loc[context_index].fixed_vector\n",
    "                        # Update current word vector by addint fixed vectors of context word\n",
    "                        current_vector = current_vector + context_vector \n",
    "                else:\n",
    "                    # Out of Bounds\n",
    "                    pass    \n",
    "            # Update current word vector into the df\n",
    "            df.loc[current_index].current_vector = current_vector\n",
    "    return df"
   ]
  },
  {
   "cell_type": "code",
   "execution_count": 10,
   "metadata": {},
   "outputs": [],
   "source": [
    "def random_index_pretrain(file1,file2,clean,k):\n",
    "    # Read in Files\n",
    "    df = read_file(file1)\n",
    "    df2 = read_file(file2)\n",
    "    # Create Corpus\n",
    "    corpus = create_corpus(df,df2,clean)\n",
    "    # Get Vocabulary of the Corpus\n",
    "    vocab = []\n",
    "    for i in corpus:\n",
    "        words = word_tokenize(i)\n",
    "        for j in words:\n",
    "            vocab.append(j)\n",
    "    vocabulary = set(vocab)\n",
    "    # Create DF\n",
    "    df = pd.DataFrame()\n",
    "    # Insert Vocabulary Column\n",
    "    df['vocab'] = list(vocabulary)\n",
    "    # Insert Word Vector Column\n",
    "    arr = []\n",
    "    for i in df.vocab:\n",
    "        # Get word vector from pretrained model\n",
    "        arr.append(model.get_word_vector(i))\n",
    "    # Initialize fixed and current vector to be vectors generated from above\n",
    "    df['fixed_vector'] = arr\n",
    "    df['current_vector'] = arr\n",
    "    # Window Size of k\n",
    "    k = k\n",
    "    for i in corpus:\n",
    "        # Tokenize Product Name + Description into words\n",
    "        words = word_tokenize(i)\n",
    "        # For every word in the line, update word vector\n",
    "        for j in range(0,len(words),1):\n",
    "            # Obtain the current word vector\n",
    "            current_index = df[df.vocab==words[j]].index[0]\n",
    "            current_vector = df.loc[current_index].current_vector\n",
    "            # Set up upper and lower bound\n",
    "            lowerbound = j-k\n",
    "            upperbound = j+k\n",
    "            for x in range(lowerbound,upperbound+1,1):\n",
    "                # if word within upper and lower bound and the index can be accessable and does not equal current index\n",
    "                if (x>=0) and (x<=(len(words)-1)):\n",
    "                    if x!=j:\n",
    "                        # Obtain fixed vectors of context word \n",
    "                        context_index = df[df.vocab==words[x]].index[0]\n",
    "                        context_vector = df.loc[context_index].fixed_vector\n",
    "                        # Update current word vector by addint fixed vectors of context word\n",
    "                        current_vector = current_vector + context_vector \n",
    "                else:\n",
    "                    # Out of Bounds\n",
    "                    pass    \n",
    "            # Update current word vector into the df\n",
    "            df.loc[current_index].current_vector = current_vector\n",
    "    return df"
   ]
  },
  {
   "cell_type": "code",
   "execution_count": 11,
   "metadata": {},
   "outputs": [],
   "source": [
    "def vectorize_indexing(df,df_vec):\n",
    "    # Vectorize the list of words and then average the vectors into one sentence vector\n",
    "    df_vectorize = df.copy()\n",
    "    counter = 0\n",
    "    for i in df['name']:\n",
    "        array = np.zeros(300)\n",
    "        avg_counter = 0\n",
    "        for x in i:\n",
    "            array += df_vec.current_vector[df_vec.vocab==x].values[0]\n",
    "            avg_counter += 1\n",
    "        avg = array/avg_counter\n",
    "        df_vectorize['name'][counter] = avg\n",
    "        counter += 1   \n",
    "    df_concat = pd.concat([df.id,df_vectorize.name],axis=1)\n",
    "    return df_concat"
   ]
  },
  {
   "cell_type": "code",
   "execution_count": 12,
   "metadata": {},
   "outputs": [],
   "source": [
    "def file_to_RI_vector(file,df_vec,clean):\n",
    "    # Read in File\n",
    "    df = read_file(file)\n",
    "    if 'title' in df.columns:\n",
    "        df['name']=df['title'].copy()\n",
    "    # Clean & Tokenize\n",
    "    temp = tokenize(df,clean)\n",
    "    df.name = temp.name\n",
    "    # Vectorize\n",
    "    data = vectorize_indexing(df,df_vec)\n",
    "    data.head()\n",
    "    return data"
   ]
  },
  {
   "cell_type": "markdown",
   "metadata": {},
   "source": [
    "#### Create Ranked List Functions"
   ]
  },
  {
   "cell_type": "code",
   "execution_count": 13,
   "metadata": {},
   "outputs": [],
   "source": [
    "def vector_length(a):\n",
    "    return float(math.sqrt(sum(x*x for x in a)))\n",
    "def dot_product(a,b):\n",
    "    if len(a) == len(b):\n",
    "        return sum([x*y for (x,y) in zip(a,b)])\n",
    "    else:\n",
    "        return \"Vector Length Different\"\n",
    "def cos_similarity(a,b):\n",
    "    return dot_product(a,b)/(vector_length(a)*vector_length(b))"
   ]
  },
  {
   "cell_type": "code",
   "execution_count": 14,
   "metadata": {},
   "outputs": [],
   "source": [
    "def top_10_ranking(df1,df2):\n",
    "    # Initialize Ranking Chart\n",
    "    col_names = ['df1_id','1','2','3','4','5','6','7','8','9','10']\n",
    "    df_ranking = pd.DataFrame(columns=col_names);\n",
    "    # Loop for every Abt_id element\n",
    "    for i in range(0,len(df1.name),1):\n",
    "        cos_sim = []\n",
    "        # Loop for computing buy_id ranking for current Abt_id\n",
    "        for j in range(0,len(df2.name),1):\n",
    "            # Compute Cosine Similarity for every buy_id element compared to current Abt_id\n",
    "            cos_sim.append(cos_similarity(df1.name[i],df2.name[j]))\n",
    "        # Sort list and pick top 10\n",
    "        temp_df = pd.DataFrame(cos_sim)\n",
    "        temp_sorted = temp_df.sort_values(by=0,ascending=False)\n",
    "        row_ranking = temp_sorted.index.values[0:10]\n",
    "        rank_buy_id = []\n",
    "        # Convert row # into buy_id\n",
    "        for k in row_ranking:\n",
    "            rank_buy_id.append(df2.id.iloc[k])\n",
    "        rank_buy_id.insert(0,df1.id[i])\n",
    "        # Concat into Abt Ranking Chart\n",
    "        combine_df = pd.DataFrame([rank_buy_id],columns=col_names)\n",
    "        df_ranking = pd.concat([df_ranking,combine_df],names=col_names,sort=False,ignore_index=True)\n",
    "    return df_ranking"
   ]
  },
  {
   "cell_type": "code",
   "execution_count": 15,
   "metadata": {},
   "outputs": [],
   "source": [
    "def true_ranking_loc(df_ranking,mapping,col1,col2):\n",
    "    # Find where ground truth is ranked \n",
    "    col_names = ['df1_id','Ranked_Location']\n",
    "    df_rank_loc = pd.DataFrame(columns=col_names)\n",
    "    # Loop for every element of Abt_id from df_ranking\n",
    "    for i in range(0,len(df_ranking.df1_id),1):\n",
    "        # Look for ground truth from True Mapping\n",
    "        look_up_id = df_ranking.df1_id[i]\n",
    "        # Check if product is in Perfect Mapping\n",
    "        if len(mapping[col2][mapping[col1]==look_up_id])!=0:\n",
    "            mapped_id = mapping[col2][mapping[col1]==look_up_id].values[0]\n",
    "            # Check if ground truth in ranking list and note its location\n",
    "            if mapped_id in list(df_ranking.iloc[i]):\n",
    "                ranking = list(df_ranking.iloc[i]).index(mapped_id)\n",
    "            else:\n",
    "                ranking = 0\n",
    "            # Concat into Abt Ranking Location df\n",
    "            temp_list = list([look_up_id,ranking])\n",
    "            temp_df2 = pd.DataFrame([temp_list],columns=col_names)\n",
    "            df_rank_loc = pd.concat([df_rank_loc,temp_df2],names=col_names,sort=False,ignore_index=True)\n",
    "    return df_rank_loc"
   ]
  },
  {
   "cell_type": "markdown",
   "metadata": {},
   "source": [
    "#### Scoring Metrics Functions"
   ]
  },
  {
   "cell_type": "code",
   "execution_count": 16,
   "metadata": {},
   "outputs": [],
   "source": [
    "def hits_at_n(df_rank_loc,n):\n",
    "    # Sum the correct ranks at ranks 1 to n divide by n number of ranks\n",
    "    HR_n_sum = 0\n",
    "    for i in range(0,len(df_rank_loc),1):\n",
    "        if df_rank_loc.Ranked_Location[i]!=0:\n",
    "            if df_rank_loc.Ranked_Location[i]<=n:\n",
    "                HR_n_sum += 1\n",
    "    Hits_Rate_at_n = HR_n_sum/len(df_rank_loc)\n",
    "    return Hits_Rate_at_n"
   ]
  },
  {
   "cell_type": "code",
   "execution_count": 17,
   "metadata": {},
   "outputs": [],
   "source": [
    "def mean_reciprocal_rank(df_rank_loc):\n",
    "    # Sum the Reciprocal Rank of Abt Ranking Location df and divide by total number element\n",
    "    MRR_sum = 0\n",
    "    for i in range(0,len(df_rank_loc),1):\n",
    "        if df_rank_loc.Ranked_Location[i]!=0:\n",
    "            MRR_sum += 1/df_rank_loc.Ranked_Location[i]\n",
    "    mean_reciprocal_rank = MRR_sum/len(df_rank_loc)\n",
    "    return mean_reciprocal_rank"
   ]
  },
  {
   "cell_type": "code",
   "execution_count": 18,
   "metadata": {},
   "outputs": [],
   "source": [
    "# Source: https://gist.github.com/bwhite/3726239\n",
    "def dcg_at_k(r, k):\n",
    "    r = np.asfarray(r)[:k]\n",
    "    if r.size:\n",
    "        return np.sum(np.subtract(np.power(2, r), 1) / np.log2(np.arange(2, r.size + 2)))\n",
    "    return 0.\n",
    "\n",
    "def ndcg_at_k(r, k):\n",
    "    idcg = dcg_at_k(sorted(r, reverse=True), k)\n",
    "    if not idcg:\n",
    "        return 0.\n",
    "    return dcg_at_k(r, k) / idcg\n",
    "\n",
    "def ndcg(df_rank_loc,k):\n",
    "    # Sum up all NDCG at each Queries and divided by total # of Queries\n",
    "    # Initalize Ranking Encoding\n",
    "    rank_encoding = {0:[0,0,0,0,0,0,0,0,0,0],\n",
    "                     1:[1,0,0,0,0,0,0,0,0,0],\n",
    "                     2:[0,1,0,0,0,0,0,0,0,0],\n",
    "                     3:[0,0,1,0,0,0,0,0,0,0],\n",
    "                     4:[0,0,0,1,0,0,0,0,0,0],\n",
    "                     5:[0,0,0,0,1,0,0,0,0,0],\n",
    "                     6:[0,0,0,0,0,1,0,0,0,0],\n",
    "                     7:[0,0,0,0,0,0,1,0,0,0],\n",
    "                     8:[0,0,0,0,0,0,0,1,0,0],\n",
    "                     9:[0,0,0,0,0,0,0,0,1,0],\n",
    "                     10:[0,0,0,0,0,0,0,0,0,1]}\n",
    "    sum_NDCG = 0\n",
    "    for i in df_rank_loc.Ranked_Location:\n",
    "        sum_NDCG += ndcg_at_k(rank_encoding[i], k)\n",
    "    NDCG = sum_NDCG/len(df_rank_loc)\n",
    "    return NDCG"
   ]
  },
  {
   "cell_type": "markdown",
   "metadata": {},
   "source": [
    "#### All in One Function"
   ]
  },
  {
   "cell_type": "code",
   "execution_count": 19,
   "metadata": {},
   "outputs": [],
   "source": [
    "def all_in_one(file1,file2,mapping,clean):\n",
    "    # Read File 1 & Vectorize\n",
    "    data1 = file_to_vector(file1,clean)\n",
    "    # Read File 2 & Vectorize\n",
    "    data2 = file_to_vector(file2,clean)\n",
    "    # Read Perfect Mapping\n",
    "    mapping = read_file(mapping)\n",
    "    # Create Ranking List\n",
    "    df_ranking = top_10_ranking(data1,data2)\n",
    "    # Find Location where True Ranking Occured \n",
    "    df_rank_loc = true_ranking_loc(df_ranking,mapping,mapping.columns[0],mapping.columns[1])\n",
    "    return df_rank_loc"
   ]
  },
  {
   "cell_type": "code",
   "execution_count": 20,
   "metadata": {},
   "outputs": [],
   "source": [
    "def all_in_one_tfidf(file1,file2,mapping,clean):\n",
    "    # Generate TF-IDF Vectors\n",
    "    data1, data2 = tf_idf_vect(file1,file2,clean)\n",
    "    # Read Perfect Mapping\n",
    "    mapping = read_file(mapping)\n",
    "    # Create Ranking List\n",
    "    df_ranking = top_10_ranking(data1,data2)\n",
    "    # Find Location where True Ranking Occured \n",
    "    df_rank_loc = true_ranking_loc(df_ranking,mapping,mapping.columns[0],mapping.columns[1])\n",
    "    return df_rank_loc"
   ]
  },
  {
   "cell_type": "code",
   "execution_count": 21,
   "metadata": {},
   "outputs": [],
   "source": [
    "def all_in_one_random_index(file1,file2,mapping,clean,k):\n",
    "    # Generate Random Indexing vectors\n",
    "    df_vec = random_index_vectors(file1,file2,clean,k)\n",
    "    # Vectorize File 1\n",
    "    data1 = file_to_RI_vector(file1,df_vec,clean)\n",
    "    # Vectorize File 2\n",
    "    data2 = file_to_RI_vector(file2,df_vec,clean)\n",
    "    # Read Perfect Mapping\n",
    "    mapping = read_file(mapping)\n",
    "    # Create Ranking List\n",
    "    df_ranking = top_10_ranking(data1,data2)\n",
    "    # Find Location where True Ranking Occured \n",
    "    df_rank_loc = true_ranking_loc(df_ranking,mapping,mapping.columns[0],mapping.columns[1])\n",
    "    return df_rank_loc"
   ]
  },
  {
   "cell_type": "code",
   "execution_count": 22,
   "metadata": {},
   "outputs": [],
   "source": [
    "def all_in_one_random_index_pretrain(file1,file2,mapping,clean,k):\n",
    "    # Generate Random Indexing vectors\n",
    "    df_vec = random_index_pretrain(file1,file2,clean,k)\n",
    "    # Vectorize File 1\n",
    "    data1 = file_to_RI_vector(file1,df_vec,clean)\n",
    "    # Vectorize File 2\n",
    "    data2 = file_to_RI_vector(file2,df_vec,clean)\n",
    "    # Read Perfect Mapping\n",
    "    mapping = read_file(mapping)\n",
    "    # Create Ranking List\n",
    "    df_ranking = top_10_ranking(data1,data2)\n",
    "    # Find Location where True Ranking Occured \n",
    "    df_rank_loc = true_ranking_loc(df_ranking,mapping,mapping.columns[0],mapping.columns[1])\n",
    "    return df_rank_loc"
   ]
  },
  {
   "cell_type": "markdown",
   "metadata": {},
   "source": [
    "## Code"
   ]
  },
  {
   "cell_type": "markdown",
   "metadata": {},
   "source": [
    "### Abt vs Buy (Raw)"
   ]
  },
  {
   "cell_type": "code",
   "execution_count": 23,
   "metadata": {},
   "outputs": [
    {
     "name": "stdout",
     "output_type": "stream",
     "text": [
      "Raw\n",
      "Hit Rate at 10:  0.21554116558741906\n",
      "Mean Reciprocal Rank:  0.12241751464693183\n",
      "NDCG at 10 Score:  0.1444482652599682\n"
     ]
    }
   ],
   "source": [
    "df_rank_loc = all_in_one_random_index_pretrain('Abt.csv','Buy.csv','abt_buy_perfectMapping.csv','Raw',1)\n",
    "print(\"Raw\")\n",
    "print(\"Hit Rate at 10: \", hits_at_n(df_rank_loc,10))\n",
    "print(\"Mean Reciprocal Rank: \", mean_reciprocal_rank(df_rank_loc))\n",
    "print('NDCG at 10 Score: ', ndcg(df_rank_loc,10))"
   ]
  },
  {
   "cell_type": "code",
   "execution_count": 24,
   "metadata": {},
   "outputs": [
    {
     "name": "stdout",
     "output_type": "stream",
     "text": [
      "Raw\n",
      "Hit Rate at 10:  0.2303422756706753\n",
      "Mean Reciprocal Rank:  0.13156395459818213\n",
      "NDCG at 10 Score:  0.1550386913359213\n"
     ]
    }
   ],
   "source": [
    "df_rank_loc = all_in_one_random_index_pretrain('Abt.csv','Buy.csv','abt_buy_perfectMapping.csv','Raw',2)\n",
    "print(\"Raw\")\n",
    "print(\"Hit Rate at 10: \", hits_at_n(df_rank_loc,10))\n",
    "print(\"Mean Reciprocal Rank: \", mean_reciprocal_rank(df_rank_loc))\n",
    "print('NDCG at 10 Score: ', ndcg(df_rank_loc,10))"
   ]
  },
  {
   "cell_type": "code",
   "execution_count": 25,
   "metadata": {},
   "outputs": [
    {
     "name": "stdout",
     "output_type": "stream",
     "text": [
      "Raw\n",
      "Hit Rate at 10:  0.23311748381128586\n",
      "Mean Reciprocal Rank:  0.13028684492606782\n",
      "NDCG at 10 Score:  0.1545811542285501\n"
     ]
    }
   ],
   "source": [
    "df_rank_loc = all_in_one_random_index_pretrain('Abt.csv','Buy.csv','abt_buy_perfectMapping.csv','Raw',3)\n",
    "print(\"Raw\")\n",
    "print(\"Hit Rate at 10: \", hits_at_n(df_rank_loc,10))\n",
    "print(\"Mean Reciprocal Rank: \", mean_reciprocal_rank(df_rank_loc))\n",
    "print('NDCG at 10 Score: ', ndcg(df_rank_loc,10))"
   ]
  },
  {
   "cell_type": "code",
   "execution_count": 26,
   "metadata": {},
   "outputs": [
    {
     "name": "stdout",
     "output_type": "stream",
     "text": [
      "Raw\n",
      "Hit Rate at 10:  0.23496762257169287\n",
      "Mean Reciprocal Rank:  0.13429180799671084\n",
      "NDCG at 10 Score:  0.15807660453177627\n"
     ]
    }
   ],
   "source": [
    "df_rank_loc = all_in_one_random_index_pretrain('Abt.csv','Buy.csv','abt_buy_perfectMapping.csv','Raw',4)\n",
    "print(\"Raw\")\n",
    "print(\"Hit Rate at 10: \", hits_at_n(df_rank_loc,10))\n",
    "print(\"Mean Reciprocal Rank: \", mean_reciprocal_rank(df_rank_loc))\n",
    "print('NDCG at 10 Score: ', ndcg(df_rank_loc,10))"
   ]
  },
  {
   "cell_type": "code",
   "execution_count": 27,
   "metadata": {},
   "outputs": [
    {
     "name": "stdout",
     "output_type": "stream",
     "text": [
      "Raw\n",
      "Hit Rate at 10:  0.2414431082331175\n",
      "Mean Reciprocal Rank:  0.13503993950339924\n",
      "NDCG at 10 Score:  0.16004600786900808\n"
     ]
    }
   ],
   "source": [
    "df_rank_loc = all_in_one_random_index_pretrain('Abt.csv','Buy.csv','abt_buy_perfectMapping.csv','Raw',5)\n",
    "print(\"Raw\")\n",
    "print(\"Hit Rate at 10: \", hits_at_n(df_rank_loc,10))\n",
    "print(\"Mean Reciprocal Rank: \", mean_reciprocal_rank(df_rank_loc))\n",
    "print('NDCG at 10 Score: ', ndcg(df_rank_loc,10))"
   ]
  },
  {
   "cell_type": "code",
   "execution_count": 28,
   "metadata": {},
   "outputs": [
    {
     "name": "stdout",
     "output_type": "stream",
     "text": [
      "Raw\n",
      "Hit Rate at 10:  0.23959296947271044\n",
      "Mean Reciprocal Rank:  0.13886245833516875\n",
      "NDCG at 10 Score:  0.16269632531220182\n"
     ]
    }
   ],
   "source": [
    "df_rank_loc = all_in_one_random_index_pretrain('Abt.csv','Buy.csv','abt_buy_perfectMapping.csv','Raw',6)\n",
    "print(\"Raw\")\n",
    "print(\"Hit Rate at 10: \", hits_at_n(df_rank_loc,10))\n",
    "print(\"Mean Reciprocal Rank: \", mean_reciprocal_rank(df_rank_loc))\n",
    "print('NDCG at 10 Score: ', ndcg(df_rank_loc,10))"
   ]
  },
  {
   "cell_type": "markdown",
   "metadata": {},
   "source": [
    "### Abt vs Buy (Cleaned No Space)"
   ]
  },
  {
   "cell_type": "code",
   "execution_count": 29,
   "metadata": {},
   "outputs": [
    {
     "name": "stdout",
     "output_type": "stream",
     "text": [
      "No Space\n",
      "Hit Rate at 10:  0.34875115633672527\n",
      "Mean Reciprocal Rank:  0.2196052303129083\n",
      "NDCG at 10 Score:  0.25029561347592183\n"
     ]
    }
   ],
   "source": [
    "df_rank_loc = all_in_one_random_index_pretrain('Abt.csv','Buy.csv','abt_buy_perfectMapping.csv','Nspace',1)\n",
    "print(\"No Space\")\n",
    "print(\"Hit Rate at 10: \", hits_at_n(df_rank_loc,10))\n",
    "print(\"Mean Reciprocal Rank: \", mean_reciprocal_rank(df_rank_loc))\n",
    "print('NDCG at 10 Score: ', ndcg(df_rank_loc,10))"
   ]
  },
  {
   "cell_type": "code",
   "execution_count": 30,
   "metadata": {},
   "outputs": [
    {
     "name": "stdout",
     "output_type": "stream",
     "text": [
      "No Space\n",
      "Hit Rate at 10:  0.3709528214616096\n",
      "Mean Reciprocal Rank:  0.22834860431992693\n",
      "NDCG at 10 Score:  0.262204992793192\n"
     ]
    }
   ],
   "source": [
    "df_rank_loc = all_in_one_random_index_pretrain('Abt.csv','Buy.csv','abt_buy_perfectMapping.csv','Nspace',2)\n",
    "print(\"No Space\")\n",
    "print(\"Hit Rate at 10: \", hits_at_n(df_rank_loc,10))\n",
    "print(\"Mean Reciprocal Rank: \", mean_reciprocal_rank(df_rank_loc))\n",
    "print('NDCG at 10 Score: ', ndcg(df_rank_loc,10))"
   ]
  },
  {
   "cell_type": "code",
   "execution_count": 31,
   "metadata": {},
   "outputs": [
    {
     "name": "stdout",
     "output_type": "stream",
     "text": [
      "No Space\n",
      "Hit Rate at 10:  0.3700277520814061\n",
      "Mean Reciprocal Rank:  0.240146175645713\n",
      "NDCG at 10 Score:  0.2710568248611075\n"
     ]
    }
   ],
   "source": [
    "df_rank_loc = all_in_one_random_index_pretrain('Abt.csv','Buy.csv','abt_buy_perfectMapping.csv','Nspace',3)\n",
    "print(\"No Space\")\n",
    "print(\"Hit Rate at 10: \", hits_at_n(df_rank_loc,10))\n",
    "print(\"Mean Reciprocal Rank: \", mean_reciprocal_rank(df_rank_loc))\n",
    "print('NDCG at 10 Score: ', ndcg(df_rank_loc,10))"
   ]
  },
  {
   "cell_type": "code",
   "execution_count": 32,
   "metadata": {},
   "outputs": [
    {
     "name": "stdout",
     "output_type": "stream",
     "text": [
      "No Space\n",
      "Hit Rate at 10:  0.37650323774283073\n",
      "Mean Reciprocal Rank:  0.2435204763373126\n",
      "NDCG at 10 Score:  0.2750985882079796\n"
     ]
    }
   ],
   "source": [
    "df_rank_loc = all_in_one_random_index_pretrain('Abt.csv','Buy.csv','abt_buy_perfectMapping.csv','Nspace',4)\n",
    "print(\"No Space\")\n",
    "print(\"Hit Rate at 10: \", hits_at_n(df_rank_loc,10))\n",
    "print(\"Mean Reciprocal Rank: \", mean_reciprocal_rank(df_rank_loc))\n",
    "print('NDCG at 10 Score: ', ndcg(df_rank_loc,10))"
   ]
  },
  {
   "cell_type": "code",
   "execution_count": 33,
   "metadata": {},
   "outputs": [
    {
     "name": "stdout",
     "output_type": "stream",
     "text": [
      "No Space\n",
      "Hit Rate at 10:  0.38020351526364476\n",
      "Mean Reciprocal Rank:  0.24481190255935856\n",
      "NDCG at 10 Score:  0.27693141204912747\n"
     ]
    }
   ],
   "source": [
    "df_rank_loc = all_in_one_random_index_pretrain('Abt.csv','Buy.csv','abt_buy_perfectMapping.csv','Nspace',5)\n",
    "print(\"No Space\")\n",
    "print(\"Hit Rate at 10: \", hits_at_n(df_rank_loc,10))\n",
    "print(\"Mean Reciprocal Rank: \", mean_reciprocal_rank(df_rank_loc))\n",
    "print('NDCG at 10 Score: ', ndcg(df_rank_loc,10))"
   ]
  },
  {
   "cell_type": "code",
   "execution_count": 34,
   "metadata": {},
   "outputs": [
    {
     "name": "stdout",
     "output_type": "stream",
     "text": [
      "No Space\n",
      "Hit Rate at 10:  0.3885291396854764\n",
      "Mean Reciprocal Rank:  0.24669030732860497\n",
      "NDCG at 10 Score:  0.28033666791737266\n"
     ]
    }
   ],
   "source": [
    "df_rank_loc = all_in_one_random_index_pretrain('Abt.csv','Buy.csv','abt_buy_perfectMapping.csv','Nspace',6)\n",
    "print(\"No Space\")\n",
    "print(\"Hit Rate at 10: \", hits_at_n(df_rank_loc,10))\n",
    "print(\"Mean Reciprocal Rank: \", mean_reciprocal_rank(df_rank_loc))\n",
    "print('NDCG at 10 Score: ', ndcg(df_rank_loc,10))"
   ]
  },
  {
   "cell_type": "markdown",
   "metadata": {},
   "source": [
    "### Abt vs Buy (Cleaned With Space)"
   ]
  },
  {
   "cell_type": "code",
   "execution_count": 35,
   "metadata": {},
   "outputs": [
    {
     "name": "stdout",
     "output_type": "stream",
     "text": [
      "With Space\n",
      "Hit Rate at 10:  0.31267345050878814\n",
      "Mean Reciprocal Rank:  0.2009830697619781\n",
      "NDCG at 10 Score:  0.22760965130198804\n"
     ]
    }
   ],
   "source": [
    "df_rank_loc = all_in_one_random_index_pretrain('Abt.csv','Buy.csv','abt_buy_perfectMapping.csv','Wspace',1)\n",
    "print(\"With Space\")\n",
    "print(\"Hit Rate at 10: \", hits_at_n(df_rank_loc,10))\n",
    "print(\"Mean Reciprocal Rank: \", mean_reciprocal_rank(df_rank_loc))\n",
    "print('NDCG at 10 Score: ', ndcg(df_rank_loc,10))"
   ]
  },
  {
   "cell_type": "code",
   "execution_count": 36,
   "metadata": {},
   "outputs": [
    {
     "name": "stdout",
     "output_type": "stream",
     "text": [
      "With Space\n",
      "Hit Rate at 10:  0.32562442183163737\n",
      "Mean Reciprocal Rank:  0.2108849830403946\n",
      "NDCG at 10 Score:  0.23807736115098171\n"
     ]
    }
   ],
   "source": [
    "df_rank_loc = all_in_one_random_index_pretrain('Abt.csv','Buy.csv','abt_buy_perfectMapping.csv','Wspace',2)\n",
    "print(\"With Space\")\n",
    "print(\"Hit Rate at 10: \", hits_at_n(df_rank_loc,10))\n",
    "print(\"Mean Reciprocal Rank: \", mean_reciprocal_rank(df_rank_loc))\n",
    "print('NDCG at 10 Score: ', ndcg(df_rank_loc,10))"
   ]
  },
  {
   "cell_type": "code",
   "execution_count": 37,
   "metadata": {},
   "outputs": [
    {
     "name": "stdout",
     "output_type": "stream",
     "text": [
      "With Space\n",
      "Hit Rate at 10:  0.3385753931544866\n",
      "Mean Reciprocal Rank:  0.211325492269063\n",
      "NDCG at 10 Score:  0.24157249835559927\n"
     ]
    }
   ],
   "source": [
    "df_rank_loc = all_in_one_random_index_pretrain('Abt.csv','Buy.csv','abt_buy_perfectMapping.csv','Wspace',3)\n",
    "print(\"With Space\")\n",
    "print(\"Hit Rate at 10: \", hits_at_n(df_rank_loc,10))\n",
    "print(\"Mean Reciprocal Rank: \", mean_reciprocal_rank(df_rank_loc))\n",
    "print('NDCG at 10 Score: ', ndcg(df_rank_loc,10))"
   ]
  },
  {
   "cell_type": "code",
   "execution_count": 38,
   "metadata": {},
   "outputs": [
    {
     "name": "stdout",
     "output_type": "stream",
     "text": [
      "With Space\n",
      "Hit Rate at 10:  0.3422756706753006\n",
      "Mean Reciprocal Rank:  0.21188934408175847\n",
      "NDCG at 10 Score:  0.2428913312681477\n"
     ]
    }
   ],
   "source": [
    "df_rank_loc = all_in_one_random_index_pretrain('Abt.csv','Buy.csv','abt_buy_perfectMapping.csv','Wspace',4)\n",
    "print(\"With Space\")\n",
    "print(\"Hit Rate at 10: \", hits_at_n(df_rank_loc,10))\n",
    "print(\"Mean Reciprocal Rank: \", mean_reciprocal_rank(df_rank_loc))\n",
    "print('NDCG at 10 Score: ', ndcg(df_rank_loc,10))"
   ]
  },
  {
   "cell_type": "code",
   "execution_count": 39,
   "metadata": {},
   "outputs": [
    {
     "name": "stdout",
     "output_type": "stream",
     "text": [
      "With Space\n",
      "Hit Rate at 10:  0.3515263644773358\n",
      "Mean Reciprocal Rank:  0.21454818436779577\n",
      "NDCG at 10 Score:  0.24701368179134\n"
     ]
    }
   ],
   "source": [
    "df_rank_loc = all_in_one_random_index_pretrain('Abt.csv','Buy.csv','abt_buy_perfectMapping.csv','Wspace',5)\n",
    "print(\"With Space\")\n",
    "print(\"Hit Rate at 10: \", hits_at_n(df_rank_loc,10))\n",
    "print(\"Mean Reciprocal Rank: \", mean_reciprocal_rank(df_rank_loc))\n",
    "print('NDCG at 10 Score: ', ndcg(df_rank_loc,10))"
   ]
  },
  {
   "cell_type": "code",
   "execution_count": 40,
   "metadata": {},
   "outputs": [
    {
     "name": "stdout",
     "output_type": "stream",
     "text": [
      "With Space\n",
      "Hit Rate at 10:  0.36262719703977797\n",
      "Mean Reciprocal Rank:  0.21819229696195463\n",
      "NDCG at 10 Score:  0.2523664481956567\n"
     ]
    }
   ],
   "source": [
    "df_rank_loc = all_in_one_random_index_pretrain('Abt.csv','Buy.csv','abt_buy_perfectMapping.csv','Wspace',6)\n",
    "print(\"With Space\")\n",
    "print(\"Hit Rate at 10: \", hits_at_n(df_rank_loc,10))\n",
    "print(\"Mean Reciprocal Rank: \", mean_reciprocal_rank(df_rank_loc))\n",
    "print('NDCG at 10 Score: ', ndcg(df_rank_loc,10))"
   ]
  },
  {
   "cell_type": "markdown",
   "metadata": {},
   "source": [
    "### Amazon vs Google (Raw)"
   ]
  },
  {
   "cell_type": "code",
   "execution_count": 41,
   "metadata": {},
   "outputs": [
    {
     "name": "stdout",
     "output_type": "stream",
     "text": [
      "Raw\n",
      "Hit Rate at 10:  0.22551662174303683\n",
      "Mean Reciprocal Rank:  0.18069353527574547\n",
      "NDCG at 10 Score:  0.19130153618089055\n"
     ]
    }
   ],
   "source": [
    "df_rank_loc = all_in_one_random_index_pretrain('Amazon.csv','GoogleProducts.csv','Amzon_GoogleProducts_perfectMapping.csv','Raw',1)\n",
    "print(\"Raw\")\n",
    "print(\"Hit Rate at 10: \", hits_at_n(df_rank_loc,10))\n",
    "print(\"Mean Reciprocal Rank: \", mean_reciprocal_rank(df_rank_loc))\n",
    "print('NDCG at 10 Score: ', ndcg(df_rank_loc,10))"
   ]
  },
  {
   "cell_type": "code",
   "execution_count": 42,
   "metadata": {},
   "outputs": [
    {
     "name": "stdout",
     "output_type": "stream",
     "text": [
      "Raw\n",
      "Hit Rate at 10:  0.2183288409703504\n",
      "Mean Reciprocal Rank:  0.17113728090817035\n",
      "NDCG at 10 Score:  0.18227449278278623\n"
     ]
    }
   ],
   "source": [
    "df_rank_loc = all_in_one_random_index_pretrain('Amazon.csv','GoogleProducts.csv','Amzon_GoogleProducts_perfectMapping.csv','Raw',2)\n",
    "print(\"Raw\")\n",
    "print(\"Hit Rate at 10: \", hits_at_n(df_rank_loc,10))\n",
    "print(\"Mean Reciprocal Rank: \", mean_reciprocal_rank(df_rank_loc))\n",
    "print('NDCG at 10 Score: ', ndcg(df_rank_loc,10))"
   ]
  },
  {
   "cell_type": "code",
   "execution_count": 43,
   "metadata": {},
   "outputs": [
    {
     "name": "stdout",
     "output_type": "stream",
     "text": [
      "Raw\n",
      "Hit Rate at 10:  0.20575022461814915\n",
      "Mean Reciprocal Rank:  0.1652947132731499\n",
      "NDCG at 10 Score:  0.17490867654749825\n"
     ]
    }
   ],
   "source": [
    "df_rank_loc = all_in_one_random_index_pretrain('Amazon.csv','GoogleProducts.csv','Amzon_GoogleProducts_perfectMapping.csv','Raw',3)\n",
    "print(\"Raw\")\n",
    "print(\"Hit Rate at 10: \", hits_at_n(df_rank_loc,10))\n",
    "print(\"Mean Reciprocal Rank: \", mean_reciprocal_rank(df_rank_loc))\n",
    "print('NDCG at 10 Score: ', ndcg(df_rank_loc,10))"
   ]
  },
  {
   "cell_type": "code",
   "execution_count": 44,
   "metadata": {},
   "outputs": [
    {
     "name": "stdout",
     "output_type": "stream",
     "text": [
      "Raw\n",
      "Hit Rate at 10:  0.20395327942497754\n",
      "Mean Reciprocal Rank:  0.1620413154779731\n",
      "NDCG at 10 Score:  0.17209660727691536\n"
     ]
    }
   ],
   "source": [
    "df_rank_loc = all_in_one_random_index_pretrain('Amazon.csv','GoogleProducts.csv','Amzon_GoogleProducts_perfectMapping.csv','Raw',4)\n",
    "print(\"Raw\")\n",
    "print(\"Hit Rate at 10: \", hits_at_n(df_rank_loc,10))\n",
    "print(\"Mean Reciprocal Rank: \", mean_reciprocal_rank(df_rank_loc))\n",
    "print('NDCG at 10 Score: ', ndcg(df_rank_loc,10))"
   ]
  },
  {
   "cell_type": "code",
   "execution_count": 45,
   "metadata": {},
   "outputs": [
    {
     "name": "stdout",
     "output_type": "stream",
     "text": [
      "Raw\n",
      "Hit Rate at 10:  0.20215633423180593\n",
      "Mean Reciprocal Rank:  0.16456666524051966\n",
      "NDCG at 10 Score:  0.17353894154667876\n"
     ]
    }
   ],
   "source": [
    "df_rank_loc = all_in_one_random_index_pretrain('Amazon.csv','GoogleProducts.csv','Amzon_GoogleProducts_perfectMapping.csv','Raw',5)\n",
    "print(\"Raw\")\n",
    "print(\"Hit Rate at 10: \", hits_at_n(df_rank_loc,10))\n",
    "print(\"Mean Reciprocal Rank: \", mean_reciprocal_rank(df_rank_loc))\n",
    "print('NDCG at 10 Score: ', ndcg(df_rank_loc,10))"
   ]
  },
  {
   "cell_type": "code",
   "execution_count": 46,
   "metadata": {},
   "outputs": [
    {
     "name": "stdout",
     "output_type": "stream",
     "text": [
      "Raw\n",
      "Hit Rate at 10:  0.20035938903863432\n",
      "Mean Reciprocal Rank:  0.16313909211483332\n",
      "NDCG at 10 Score:  0.17210318875378694\n"
     ]
    }
   ],
   "source": [
    "df_rank_loc = all_in_one_random_index_pretrain('Amazon.csv','GoogleProducts.csv','Amzon_GoogleProducts_perfectMapping.csv','Raw',6)\n",
    "print(\"Raw\")\n",
    "print(\"Hit Rate at 10: \", hits_at_n(df_rank_loc,10))\n",
    "print(\"Mean Reciprocal Rank: \", mean_reciprocal_rank(df_rank_loc))\n",
    "print('NDCG at 10 Score: ', ndcg(df_rank_loc,10))"
   ]
  },
  {
   "cell_type": "markdown",
   "metadata": {},
   "source": [
    "### Amazon vs Google (Cleaned No Space)"
   ]
  },
  {
   "cell_type": "code",
   "execution_count": 47,
   "metadata": {},
   "outputs": [
    {
     "name": "stdout",
     "output_type": "stream",
     "text": [
      "No Space\n",
      "Hit Rate at 10:  0.3270440251572327\n",
      "Mean Reciprocal Rank:  0.2521139063591893\n",
      "NDCG at 10 Score:  0.2699846093017196\n"
     ]
    }
   ],
   "source": [
    "df_rank_loc = all_in_one_random_index_pretrain('Amazon.csv','GoogleProducts.csv','Amzon_GoogleProducts_perfectMapping.csv','Nspace',1)\n",
    "print(\"No Space\")\n",
    "print(\"Hit Rate at 10: \", hits_at_n(df_rank_loc,10))\n",
    "print(\"Mean Reciprocal Rank: \", mean_reciprocal_rank(df_rank_loc))\n",
    "print('NDCG at 10 Score: ', ndcg(df_rank_loc,10))"
   ]
  },
  {
   "cell_type": "code",
   "execution_count": 48,
   "metadata": {},
   "outputs": [
    {
     "name": "stdout",
     "output_type": "stream",
     "text": [
      "No Space\n",
      "Hit Rate at 10:  0.31626235399820307\n",
      "Mean Reciprocal Rank:  0.24360194811677285\n",
      "NDCG at 10 Score:  0.2609411060692383\n"
     ]
    }
   ],
   "source": [
    "df_rank_loc = all_in_one_random_index_pretrain('Amazon.csv','GoogleProducts.csv','Amzon_GoogleProducts_perfectMapping.csv','Nspace',2)\n",
    "print(\"No Space\")\n",
    "print(\"Hit Rate at 10: \", hits_at_n(df_rank_loc,10))\n",
    "print(\"Mean Reciprocal Rank: \", mean_reciprocal_rank(df_rank_loc))\n",
    "print('NDCG at 10 Score: ', ndcg(df_rank_loc,10))"
   ]
  },
  {
   "cell_type": "code",
   "execution_count": 49,
   "metadata": {},
   "outputs": [
    {
     "name": "stdout",
     "output_type": "stream",
     "text": [
      "No Space\n",
      "Hit Rate at 10:  0.3045822102425876\n",
      "Mean Reciprocal Rank:  0.24022162324049112\n",
      "NDCG at 10 Score:  0.25558166117859266\n"
     ]
    }
   ],
   "source": [
    "df_rank_loc = all_in_one_random_index_pretrain('Amazon.csv','GoogleProducts.csv','Amzon_GoogleProducts_perfectMapping.csv','Nspace',3)\n",
    "print(\"No Space\")\n",
    "print(\"Hit Rate at 10: \", hits_at_n(df_rank_loc,10))\n",
    "print(\"Mean Reciprocal Rank: \", mean_reciprocal_rank(df_rank_loc))\n",
    "print('NDCG at 10 Score: ', ndcg(df_rank_loc,10))"
   ]
  },
  {
   "cell_type": "code",
   "execution_count": 50,
   "metadata": {},
   "outputs": [
    {
     "name": "stdout",
     "output_type": "stream",
     "text": [
      "No Space\n",
      "Hit Rate at 10:  0.3036837376460018\n",
      "Mean Reciprocal Rank:  0.23830666438483145\n",
      "NDCG at 10 Score:  0.253923333740992\n"
     ]
    }
   ],
   "source": [
    "df_rank_loc = all_in_one_random_index_pretrain('Amazon.csv','GoogleProducts.csv','Amzon_GoogleProducts_perfectMapping.csv','Nspace',4)\n",
    "print(\"No Space\")\n",
    "print(\"Hit Rate at 10: \", hits_at_n(df_rank_loc,10))\n",
    "print(\"Mean Reciprocal Rank: \", mean_reciprocal_rank(df_rank_loc))\n",
    "print('NDCG at 10 Score: ', ndcg(df_rank_loc,10))"
   ]
  },
  {
   "cell_type": "code",
   "execution_count": 51,
   "metadata": {},
   "outputs": [
    {
     "name": "stdout",
     "output_type": "stream",
     "text": [
      "No Space\n",
      "Hit Rate at 10:  0.3000898472596586\n",
      "Mean Reciprocal Rank:  0.23525221409318445\n",
      "NDCG at 10 Score:  0.250837197684911\n"
     ]
    }
   ],
   "source": [
    "df_rank_loc = all_in_one_random_index_pretrain('Amazon.csv','GoogleProducts.csv','Amzon_GoogleProducts_perfectMapping.csv','Nspace',5)\n",
    "print(\"No Space\")\n",
    "print(\"Hit Rate at 10: \", hits_at_n(df_rank_loc,10))\n",
    "print(\"Mean Reciprocal Rank: \", mean_reciprocal_rank(df_rank_loc))\n",
    "print('NDCG at 10 Score: ', ndcg(df_rank_loc,10))"
   ]
  },
  {
   "cell_type": "code",
   "execution_count": 52,
   "metadata": {},
   "outputs": [
    {
     "name": "stdout",
     "output_type": "stream",
     "text": [
      "No Space\n",
      "Hit Rate at 10:  0.29829290206648695\n",
      "Mean Reciprocal Rank:  0.23437549023802387\n",
      "NDCG at 10 Score:  0.2496254887892268\n"
     ]
    }
   ],
   "source": [
    "df_rank_loc = all_in_one_random_index_pretrain('Amazon.csv','GoogleProducts.csv','Amzon_GoogleProducts_perfectMapping.csv','Nspace',6)\n",
    "print(\"No Space\")\n",
    "print(\"Hit Rate at 10: \", hits_at_n(df_rank_loc,10))\n",
    "print(\"Mean Reciprocal Rank: \", mean_reciprocal_rank(df_rank_loc))\n",
    "print('NDCG at 10 Score: ', ndcg(df_rank_loc,10))"
   ]
  },
  {
   "cell_type": "markdown",
   "metadata": {},
   "source": [
    "### Amazon vs Google (Cleaned With Space)"
   ]
  },
  {
   "cell_type": "code",
   "execution_count": 53,
   "metadata": {},
   "outputs": [
    {
     "name": "stdout",
     "output_type": "stream",
     "text": [
      "With Space\n",
      "Hit Rate at 10:  0.3018867924528302\n",
      "Mean Reciprocal Rank:  0.23190290791368956\n",
      "NDCG at 10 Score:  0.24853949062632794\n"
     ]
    }
   ],
   "source": [
    "df_rank_loc = all_in_one_random_index_pretrain('Amazon.csv','GoogleProducts.csv','Amzon_GoogleProducts_perfectMapping.csv','Wspace',1)\n",
    "print(\"With Space\")\n",
    "print(\"Hit Rate at 10: \", hits_at_n(df_rank_loc,10))\n",
    "print(\"Mean Reciprocal Rank: \", mean_reciprocal_rank(df_rank_loc))\n",
    "print('NDCG at 10 Score: ', ndcg(df_rank_loc,10))"
   ]
  },
  {
   "cell_type": "code",
   "execution_count": 54,
   "metadata": {},
   "outputs": [
    {
     "name": "stdout",
     "output_type": "stream",
     "text": [
      "With Space\n",
      "Hit Rate at 10:  0.2884097035040431\n",
      "Mean Reciprocal Rank:  0.22482066201742743\n",
      "NDCG at 10 Score:  0.23972110778194156\n"
     ]
    }
   ],
   "source": [
    "df_rank_loc = all_in_one_random_index_pretrain('Amazon.csv','GoogleProducts.csv','Amzon_GoogleProducts_perfectMapping.csv','Wspace',2)\n",
    "print(\"With Space\")\n",
    "print(\"Hit Rate at 10: \", hits_at_n(df_rank_loc,10))\n",
    "print(\"Mean Reciprocal Rank: \", mean_reciprocal_rank(df_rank_loc))\n",
    "print('NDCG at 10 Score: ', ndcg(df_rank_loc,10))"
   ]
  },
  {
   "cell_type": "code",
   "execution_count": 55,
   "metadata": {},
   "outputs": [
    {
     "name": "stdout",
     "output_type": "stream",
     "text": [
      "With Space\n",
      "Hit Rate at 10:  0.27672955974842767\n",
      "Mean Reciprocal Rank:  0.21911143912491615\n",
      "NDCG at 10 Score:  0.23275379202810426\n"
     ]
    }
   ],
   "source": [
    "df_rank_loc = all_in_one_random_index_pretrain('Amazon.csv','GoogleProducts.csv','Amzon_GoogleProducts_perfectMapping.csv','Wspace',3)\n",
    "print(\"With Space\")\n",
    "print(\"Hit Rate at 10: \", hits_at_n(df_rank_loc,10))\n",
    "print(\"Mean Reciprocal Rank: \", mean_reciprocal_rank(df_rank_loc))\n",
    "print('NDCG at 10 Score: ', ndcg(df_rank_loc,10))"
   ]
  },
  {
   "cell_type": "code",
   "execution_count": 56,
   "metadata": {},
   "outputs": [
    {
     "name": "stdout",
     "output_type": "stream",
     "text": [
      "With Space\n",
      "Hit Rate at 10:  0.2749326145552561\n",
      "Mean Reciprocal Rank:  0.21795804275588643\n",
      "NDCG at 10 Score:  0.23153259015146263\n"
     ]
    }
   ],
   "source": [
    "df_rank_loc = all_in_one_random_index_pretrain('Amazon.csv','GoogleProducts.csv','Amzon_GoogleProducts_perfectMapping.csv','Wspace',4)\n",
    "print(\"With Space\")\n",
    "print(\"Hit Rate at 10: \", hits_at_n(df_rank_loc,10))\n",
    "print(\"Mean Reciprocal Rank: \", mean_reciprocal_rank(df_rank_loc))\n",
    "print('NDCG at 10 Score: ', ndcg(df_rank_loc,10))"
   ]
  },
  {
   "cell_type": "code",
   "execution_count": 57,
   "metadata": {},
   "outputs": [
    {
     "name": "stdout",
     "output_type": "stream",
     "text": [
      "With Space\n",
      "Hit Rate at 10:  0.27583108715184185\n",
      "Mean Reciprocal Rank:  0.21596749811035523\n",
      "NDCG at 10 Score:  0.230214825228943\n"
     ]
    }
   ],
   "source": [
    "df_rank_loc = all_in_one_random_index_pretrain('Amazon.csv','GoogleProducts.csv','Amzon_GoogleProducts_perfectMapping.csv','Wspace',5)\n",
    "print(\"With Space\")\n",
    "print(\"Hit Rate at 10: \", hits_at_n(df_rank_loc,10))\n",
    "print(\"Mean Reciprocal Rank: \", mean_reciprocal_rank(df_rank_loc))\n",
    "print('NDCG at 10 Score: ', ndcg(df_rank_loc,10))"
   ]
  },
  {
   "cell_type": "code",
   "execution_count": 58,
   "metadata": {},
   "outputs": [
    {
     "name": "stdout",
     "output_type": "stream",
     "text": [
      "With Space\n",
      "Hit Rate at 10:  0.2776280323450135\n",
      "Mean Reciprocal Rank:  0.2161293657924385\n",
      "NDCG at 10 Score:  0.2307814742033369\n"
     ]
    }
   ],
   "source": [
    "df_rank_loc = all_in_one_random_index_pretrain('Amazon.csv','GoogleProducts.csv','Amzon_GoogleProducts_perfectMapping.csv','Wspace',6)\n",
    "print(\"With Space\")\n",
    "print(\"Hit Rate at 10: \", hits_at_n(df_rank_loc,10))\n",
    "print(\"Mean Reciprocal Rank: \", mean_reciprocal_rank(df_rank_loc))\n",
    "print('NDCG at 10 Score: ', ndcg(df_rank_loc,10))"
   ]
  },
  {
   "cell_type": "markdown",
   "metadata": {},
   "source": [
    "### Conclusion \n",
    "#### FastText Pre-Trained CBOWModel + Random Indexing"
   ]
  },
  {
   "cell_type": "markdown",
   "metadata": {},
   "source": [
    "|  Hits Rate at 10      | K = 1 | K = 2 | K = 3  | K = 4 | K = 5 | K = 6 |\n",
    "| ------------------------     | ---   | ---     |   --- | --- | --- | --- |\n",
    "| Abt_buy (Raw)                         | 0.216 |  0.230  | 0.233 | 0.235 | 0.241 | 0.240 |\n",
    "| Abt_buy (Cleaned No Space)            | 0.349 |  0.371  | 0.370 | 0.377 | 0.380 | 0.389 |\n",
    "| Abt_buy (Cleaned With Space)          | 0.313 |  0.326  | 0.339 | 0.342 | 0.352 | 0.363 |\n",
    "| Amazon_Google (Raw)                   | 0.226 |  0.218  | 0.206 | 0.204 | 0.202 | 0.200 |\n",
    "| Amazon_Google (Cleaned No Space)      | 0.327 |  0.316  | 0.305 | 0.304 | 0.300 | 0.298 |\n",
    "| Amazon_Google (Cleaned With Space)    | 0.302 |  0.288  | 0.277 | 0.275 | 0.276 | 0.278 |"
   ]
  },
  {
   "cell_type": "markdown",
   "metadata": {},
   "source": [
    "|  Mean Reciprocal Rank      | K = 1 | K = 2 | K = 3  | K = 4 | K = 5 | K = 6 |\n",
    "| ------------------------     | ---   | ---     |   --- | --- | --- | --- |\n",
    "| Abt_buy (Raw)                         | 0.122 |  0.132  | 0.130 | 0.134 | 0.135 | 0.139 |\n",
    "| Abt_buy (Cleaned No Space)            | 0.220 |  0.228  | 0.240 | 0.244 | 0.245 | 0.247 |\n",
    "| Abt_buy (Cleaned With Space)          | 0.201 |  0.211  | 0.211 | 0.212 | 0.215 | 0.218 |\n",
    "| Amazon_Google (Raw)                   | 0.181 |  0.171  | 0.165 | 0.162 | 0.165 | 0.163 |\n",
    "| Amazon_Google (Cleaned No Space)      | 0.252 |  0.244  | 0.240 | 0.238 | 0.235 | 0.234 |\n",
    "| Amazon_Google (Cleaned With Space)    | 0.232 |  0.225  | 0.219 | 0.218 | 0.216 | 0.216 |"
   ]
  },
  {
   "cell_type": "markdown",
   "metadata": {},
   "source": [
    "|  NDCG Score at 10      | K = 1 | K = 2 | K = 3  | K = 4 | K = 5 | K = 6 |\n",
    "| ------------------------     | ---   | ---     |   --- | --- | --- | --- |\n",
    "| Abt_buy (Raw)                         | 0.144 |  0.155  | 0.155 | 0.158 | 0.160 | 0.163 |\n",
    "| Abt_buy (Cleaned No Space)            | 0.250 |  0.262  | 0.271 | 0.275 | 0.277 | 0.280 |\n",
    "| Abt_buy (Cleaned With Space)          | 0.227 |  0.238  | 0.242 | 0.243 | 0.247 | 0.252 |\n",
    "| Amazon_Google (Raw)                   | 0.191 |  0.182  | 0.175 | 0.172 | 0.174 | 0.172 |\n",
    "| Amazon_Google (Cleaned No Space)      | 0.270 |  0.261  | 0.256 | 0.254 | 0.251 | 0.250 |\n",
    "| Amazon_Google (Cleaned With Space)    | 0.249 |  0.240  | 0.233 | 0.232 | 0.230 | 0.231 |"
   ]
  }
 ],
 "metadata": {
  "kernelspec": {
   "display_name": "Python 3",
   "language": "python",
   "name": "python3"
  },
  "language_info": {
   "codemirror_mode": {
    "name": "ipython",
    "version": 3
   },
   "file_extension": ".py",
   "mimetype": "text/x-python",
   "name": "python",
   "nbconvert_exporter": "python",
   "pygments_lexer": "ipython3",
   "version": "3.7.1"
  }
 },
 "nbformat": 4,
 "nbformat_minor": 2
}
